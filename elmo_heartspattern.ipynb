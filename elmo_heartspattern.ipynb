{
  "nbformat": 4,
  "nbformat_minor": 0,
  "metadata": {
    "colab": {
      "name": "elmo_heartspattern.ipynb",
      "provenance": [],
      "collapsed_sections": []
    },
    "kernelspec": {
      "name": "python3",
      "display_name": "Python 3"
    }
  },
  "cells": [
    {
      "cell_type": "code",
      "metadata": {
        "id": "HYxAGscUn3e8",
        "colab_type": "code",
        "colab": {}
      },
      "source": [
        "\"\"\"\n",
        "In this notebook , i implemented a small similar project i did before.\n",
        "We had a project for language(Say German) with NLP and \n",
        "we were asked to convert it into another language(Chinese)\n",
        "Since we do not know second language and for some reasons,\n",
        "1st we convert corpus with google translate.\n",
        "Then from verb-noun pairs we tried to understand different meanings for verbs.\n",
        "\n",
        "text1 = \"He played very good football\" \n",
        "text2 = \"He played tennis while he was in Tokyo\" \n",
        "text3 = \"He played violin in high school\" \n",
        "text4 = \"He played king in theatre\" \n",
        "\n",
        "for above sentences verb is play but meanings are different.\n",
        "We tried to do this task with word2vec and ELmo.\n",
        "Since Elmo generates embedings with context, it was much better.\n",
        "\n",
        "We found verb-noun patterns, and check similarity of nouns, to understand\n",
        "the number of  different meanings of a given verb. \n",
        "\n",
        "\"\"\"\n",
        "import re \n",
        "import string \n",
        "import nltk \n",
        "import spacy \n",
        "import pandas as pd \n",
        "import numpy as np \n",
        "import math \n",
        "from tqdm import tqdm \n",
        "\n",
        "from spacy.matcher import Matcher \n",
        "from spacy.tokens import Span \n",
        "from spacy import displacy \n",
        "import tensorflow as tf\n",
        "\n",
        "pd.set_option('display.max_colwidth', 200)\n",
        "tf.compat.v1.enable_eager_execution()\n"
      ],
      "execution_count": 0,
      "outputs": []
    },
    {
      "cell_type": "code",
      "metadata": {
        "id": "XOxPsU5boD1n",
        "colab_type": "code",
        "colab": {}
      },
      "source": [
        "#!pip install textacy"
      ],
      "execution_count": 0,
      "outputs": []
    },
    {
      "cell_type": "code",
      "metadata": {
        "id": "zXf6WAC1n5aM",
        "colab_type": "code",
        "colab": {}
      },
      "source": [
        "nlp = spacy.load(\"en_core_web_sm\")"
      ],
      "execution_count": 0,
      "outputs": []
    },
    {
      "cell_type": "code",
      "metadata": {
        "id": "olHB54k_n7aM",
        "colab_type": "code",
        "colab": {
          "base_uri": "https://localhost:8080/",
          "height": 598
        },
        "outputId": "76411e7e-8a84-4c42-c391-19fca8d498ad"
      },
      "source": [
        "text1 = \"He played very good football\" \n",
        "text2 = \"He played tennis while he was in Tokyo\" \n",
        "text3 = \"He played violin in high school\" \n",
        "text4 = \"He played king in theatre\" \n",
        "texts = [text1,text2,text3,text4]\n",
        "def describe(sentence):\n",
        "  print( \"\\nsentence :\",sentence)\n",
        "  doc = nlp(sentence)\n",
        "  for tok in doc:\n",
        "    print(tok.text, \"-->\",tok.dep_,\"-->\", tok.pos_)\n",
        "\n",
        "for t in texts:\n",
        "  describe(t)  "
      ],
      "execution_count": 28,
      "outputs": [
        {
          "output_type": "stream",
          "text": [
            "\n",
            "sentence : He played very good football\n",
            "He --> nsubj --> PRON\n",
            "played --> ROOT --> VERB\n",
            "very --> advmod --> ADV\n",
            "good --> amod --> ADJ\n",
            "football --> dobj --> NOUN\n",
            "\n",
            "sentence : He played tennis while he was in Tokyo\n",
            "He --> nsubj --> PRON\n",
            "played --> ROOT --> VERB\n",
            "tennis --> dobj --> NOUN\n",
            "while --> mark --> SCONJ\n",
            "he --> nsubj --> PRON\n",
            "was --> advcl --> AUX\n",
            "in --> prep --> ADP\n",
            "Tokyo --> pobj --> PROPN\n",
            "\n",
            "sentence : He played violin in high school\n",
            "He --> nsubj --> PRON\n",
            "played --> ROOT --> VERB\n",
            "violin --> dobj --> NOUN\n",
            "in --> prep --> ADP\n",
            "high --> amod --> ADJ\n",
            "school --> pobj --> NOUN\n",
            "\n",
            "sentence : He played king in theatre\n",
            "He --> nsubj --> PRON\n",
            "played --> ROOT --> VERB\n",
            "king --> dobj --> NOUN\n",
            "in --> prep --> ADP\n",
            "theatre --> pobj --> PROPN\n"
          ],
          "name": "stdout"
        }
      ]
    },
    {
      "cell_type": "code",
      "metadata": {
        "id": "8iTBTwJDn8-a",
        "colab_type": "code",
        "colab": {
          "base_uri": "https://localhost:8080/",
          "height": 108
        },
        "outputId": "012d3d60-2ed6-481c-e319-06ee976da41a"
      },
      "source": [
        "import spacy,en_core_web_sm\n",
        "import textacy\n",
        "nlp = en_core_web_sm.load()\n",
        "\n",
        "#Catch verb-noun pairs\n",
        "pattern = [{'LOWER': 'played'},\n",
        "           #{'POS': 'ADV', 'OP': '*'},\n",
        "           {'OP': '*'},\n",
        "           {'POS': 'NOUN', 'OP': '+'}]\n",
        "\n",
        "for sentence in texts:\n",
        "  doc = textacy.make_spacy_doc(sentence, lang='en_core_web_sm')\n",
        "  lists = textacy.extract.matches(doc, pattern)\n",
        "  for list in lists:\n",
        "    print(list.text)"
      ],
      "execution_count": 7,
      "outputs": [
        {
          "output_type": "stream",
          "text": [
            "played very good football\n",
            "played tennis\n",
            "played violin\n",
            "played violin in high school\n",
            "played king\n"
          ],
          "name": "stdout"
        }
      ]
    },
    {
      "cell_type": "code",
      "metadata": {
        "id": "nDQnj6swoBan",
        "colab_type": "code",
        "colab": {
          "base_uri": "https://localhost:8080/",
          "height": 328
        },
        "outputId": "0aa3b4bd-8a33-453b-cf4b-00595f3b58b6"
      },
      "source": [
        "from gensim.models.word2vec import Word2Vec\n",
        "import gensim.downloader as api\n",
        "\n",
        "#get a word2vec corpus\n",
        "corpus = api.load('text8')  \n",
        "model = Word2Vec(corpus)  \n",
        "model.most_similar(\"car\")"
      ],
      "execution_count": 8,
      "outputs": [
        {
          "output_type": "stream",
          "text": [
            "/usr/local/lib/python3.6/dist-packages/smart_open/smart_open_lib.py:253: UserWarning: This function is deprecated, use smart_open.open instead. See the migration notes for details: https://github.com/RaRe-Technologies/smart_open/blob/master/README.rst#migrating-to-the-new-open-function\n",
            "  'See the migration notes for details: %s' % _MIGRATION_NOTES_URL\n",
            "/usr/local/lib/python3.6/dist-packages/ipykernel_launcher.py:6: DeprecationWarning: Call to deprecated `most_similar` (Method will be removed in 4.0.0, use self.wv.most_similar() instead).\n",
            "  \n",
            "/usr/local/lib/python3.6/dist-packages/gensim/matutils.py:737: FutureWarning: Conversion of the second argument of issubdtype from `int` to `np.signedinteger` is deprecated. In future, it will be treated as `np.int64 == np.dtype(int).type`.\n",
            "  if np.issubdtype(vec.dtype, np.int):\n"
          ],
          "name": "stderr"
        },
        {
          "output_type": "execute_result",
          "data": {
            "text/plain": [
              "[('driver', 0.8096974492073059),\n",
              " ('truck', 0.7256351113319397),\n",
              " ('motorcycle', 0.7204147577285767),\n",
              " ('taxi', 0.7120797634124756),\n",
              " ('cars', 0.707251787185669),\n",
              " ('vehicle', 0.6724898815155029),\n",
              " ('passenger', 0.6630937457084656),\n",
              " ('racing', 0.6602973937988281),\n",
              " ('automobile', 0.6409180760383606),\n",
              " ('glider', 0.634545087814331)]"
            ]
          },
          "metadata": {
            "tags": []
          },
          "execution_count": 8
        }
      ]
    },
    {
      "cell_type": "code",
      "metadata": {
        "id": "safuD8qYpoeI",
        "colab_type": "code",
        "colab": {
          "base_uri": "https://localhost:8080/",
          "height": 491
        },
        "outputId": "1335c727-5d7c-4270-fd75-411c8b4e2454"
      },
      "source": [
        "#we can see that tennis,football is much related than others\n",
        "keywords = [\"tennis\",\"football\",\"violin\",\"heart\",\"theater\",\"card\",\"king\"]\n",
        "for i,key1 in enumerate(keywords):\n",
        "  for j,key2 in enumerate(keywords):\n",
        "    if i < j :\n",
        "      print( key1 ,\" <> \" , key2 , model.similarity(key1,key2))"
      ],
      "execution_count": 9,
      "outputs": [
        {
          "output_type": "stream",
          "text": [
            "tennis  <>  football 0.7245322\n",
            "tennis  <>  violin 0.35113767\n",
            "tennis  <>  heart 0.07257649\n",
            "tennis  <>  theater 0.26850238\n",
            "tennis  <>  card 0.34463185\n",
            "tennis  <>  king -0.046462316\n",
            "football  <>  violin 0.22081622\n",
            "football  <>  heart -0.053363036\n",
            "football  <>  theater 0.20171845\n",
            "football  <>  card 0.4159222\n",
            "football  <>  king 0.008354831\n",
            "violin  <>  heart -0.0027932727\n",
            "violin  <>  theater 0.20187119\n",
            "violin  <>  card 0.2113994\n",
            "violin  <>  king -0.02630376\n",
            "heart  <>  theater 0.14609508\n",
            "heart  <>  card 0.060182434\n",
            "heart  <>  king 0.09100635\n",
            "theater  <>  card 0.06485075\n",
            "theater  <>  king -0.004532304\n",
            "card  <>  king -0.002638336\n"
          ],
          "name": "stdout"
        },
        {
          "output_type": "stream",
          "text": [
            "/usr/local/lib/python3.6/dist-packages/ipykernel_launcher.py:5: DeprecationWarning: Call to deprecated `similarity` (Method will be removed in 4.0.0, use self.wv.similarity() instead).\n",
            "  \"\"\"\n",
            "/usr/local/lib/python3.6/dist-packages/gensim/matutils.py:737: FutureWarning: Conversion of the second argument of issubdtype from `int` to `np.signedinteger` is deprecated. In future, it will be treated as `np.int64 == np.dtype(int).type`.\n",
            "  if np.issubdtype(vec.dtype, np.int):\n"
          ],
          "name": "stderr"
        }
      ]
    },
    {
      "cell_type": "code",
      "metadata": {
        "id": "Im-FnsHKpr_E",
        "colab_type": "code",
        "colab": {
          "base_uri": "https://localhost:8080/",
          "height": 146
        },
        "outputId": "341b83a4-7bc8-4b6c-82a9-6e6d111abc73"
      },
      "source": [
        "import tensorflow_hub as hub\n",
        "#download elmo\n",
        "elmo_module_url = \"https://tfhub.dev/google/elmo/2\"\n",
        "elmo_embed = hub.load(elmo_module_url)"
      ],
      "execution_count": 10,
      "outputs": [
        {
          "output_type": "stream",
          "text": [
            "WARNING:tensorflow:From /usr/local/lib/python3.6/dist-packages/tensorflow/python/ops/resource_variable_ops.py:1817: calling BaseResourceVariable.__init__ (from tensorflow.python.ops.resource_variable_ops) with constraint is deprecated and will be removed in a future version.\n",
            "Instructions for updating:\n",
            "If using Keras pass *_constraint arguments to layers.\n"
          ],
          "name": "stdout"
        },
        {
          "output_type": "stream",
          "text": [
            "WARNING:tensorflow:From /usr/local/lib/python3.6/dist-packages/tensorflow/python/ops/resource_variable_ops.py:1817: calling BaseResourceVariable.__init__ (from tensorflow.python.ops.resource_variable_ops) with constraint is deprecated and will be removed in a future version.\n",
            "Instructions for updating:\n",
            "If using Keras pass *_constraint arguments to layers.\n"
          ],
          "name": "stderr"
        }
      ]
    },
    {
      "cell_type": "code",
      "metadata": {
        "id": "ZaZhAr6fvJmD",
        "colab_type": "code",
        "colab": {}
      },
      "source": [
        "from sklearn.metrics.pairwise import cosine_similarity\n",
        "\n",
        "\"\"\"\n",
        "    The return values of elmo\n",
        "    word_emb: the character-based word representations with shape [batch_size, max_length, 512].\n",
        "    lstm_outputs1: the first LSTM hidden state with shape [batch_size, max_length, 1024].\n",
        "    lstm_outputs2: the second LSTM hidden state with shape [batch_size, max_length, 1024].\n",
        "    elmo: the weighted sum of the 3 layers, where the weights are trainable. This tensor has shape [batch_size, max_length, 1024]\n",
        "    default: a fixed mean-pooling of all contextualized word representations with shape [batch_size, 1024].\n",
        "\n",
        "\"\"\""
      ],
      "execution_count": 0,
      "outputs": []
    },
    {
      "cell_type": "code",
      "metadata": {
        "id": "omddrRbIwk8r",
        "colab_type": "code",
        "colab": {
          "base_uri": "https://localhost:8080/",
          "height": 72
        },
        "outputId": "da4366d5-fe93-49bf-e7a7-c0b516aee66d"
      },
      "source": [
        "#get a sentence embedding\n",
        "def elmo_vectors(x):\n",
        "  q = tf.constant([x])\n",
        "  embeddings = elmo_embed.signatures['default'](q)\n",
        "  return embeddings[\"default\"].numpy()\n",
        "\n",
        "#get an embedding of word\n",
        "def elmo_vectors_word(x,index):\n",
        "  q = tf.constant([x])\n",
        "  embeddings = elmo_embed.signatures['default'](q)\n",
        "  return embeddings[\"elmo\"].numpy()[0][index].reshape(1,1024) \n",
        "\n",
        "\n",
        "v1 = elmo_vectors_word(\"he played football\",2)\n",
        "v2 = elmo_vectors_word(\"he played tennis\",2)\n",
        "v3 = elmo_vectors_word(\"he played violin\",2)\n",
        "\n",
        "print(\"sentences of football,tennis \", cosine_similarity(v1,v2))\n",
        "print(\"sentences of football,violin \", cosine_similarity(v1,v3))\n",
        "print(\"sentences of tennis,violin \", cosine_similarity(v2,v3))"
      ],
      "execution_count": 43,
      "outputs": [
        {
          "output_type": "stream",
          "text": [
            "sentences of football,tennis  [[0.79441893]]\n",
            "sentences of football,violin  [[0.5626879]]\n",
            "sentences of tennis,violin  [[0.5979855]]\n"
          ],
          "name": "stdout"
        }
      ]
    },
    {
      "cell_type": "code",
      "metadata": {
        "id": "vOBQIV39wLzy",
        "colab_type": "code",
        "colab": {
          "base_uri": "https://localhost:8080/",
          "height": 108
        },
        "outputId": "a2a7ce0b-e700-4d5f-a227-052be48c0bfe"
      },
      "source": [
        "\n",
        "elmo_embeddings=[]\n",
        "print (len(texts))\n",
        "for i in range(len(texts)):\n",
        "    print (texts[i])\n",
        "    elmo_embeddings.append(elmo_vectors(texts[i]).squeeze())"
      ],
      "execution_count": 47,
      "outputs": [
        {
          "output_type": "stream",
          "text": [
            "4\n",
            "He played very good football\n",
            "He played tennis while he was in Tokyo\n",
            "He played violin in high school\n",
            "He played king in theatre\n"
          ],
          "name": "stdout"
        }
      ]
    },
    {
      "cell_type": "code",
      "metadata": {
        "id": "IMezYUydwN82",
        "colab_type": "code",
        "colab": {
          "base_uri": "https://localhost:8080/",
          "height": 90
        },
        "outputId": "877696e8-091d-4683-b693-028626677ba2"
      },
      "source": [
        "relation_sentences = cosine_similarity(elmo_embeddings, elmo_embeddings)\n",
        "print(relation_sentences)"
      ],
      "execution_count": 55,
      "outputs": [
        {
          "output_type": "stream",
          "text": [
            "[[1.         0.59570265 0.6094363  0.6669673 ]\n",
            " [0.59570265 0.99999994 0.62427634 0.6425481 ]\n",
            " [0.6094363  0.62427634 0.9999998  0.7093555 ]\n",
            " [0.6669673  0.6425481  0.7093555  1.        ]]\n"
          ],
          "name": "stdout"
        }
      ]
    },
    {
      "cell_type": "code",
      "metadata": {
        "id": "_tqFfvv90Rm4",
        "colab_type": "code",
        "colab": {
          "base_uri": "https://localhost:8080/",
          "height": 175
        },
        "outputId": "e5e37a6a-97b0-4cf4-d1d9-01aeed991f49"
      },
      "source": [
        "import pandas as pd\n",
        "cols = [\"football\",\"tennis\",\"violin\",\"theatre\"]\n",
        "pd.DataFrame(relation_sentences,columns=cols,index=cols)"
      ],
      "execution_count": 56,
      "outputs": [
        {
          "output_type": "execute_result",
          "data": {
            "text/html": [
              "<div>\n",
              "<style scoped>\n",
              "    .dataframe tbody tr th:only-of-type {\n",
              "        vertical-align: middle;\n",
              "    }\n",
              "\n",
              "    .dataframe tbody tr th {\n",
              "        vertical-align: top;\n",
              "    }\n",
              "\n",
              "    .dataframe thead th {\n",
              "        text-align: right;\n",
              "    }\n",
              "</style>\n",
              "<table border=\"1\" class=\"dataframe\">\n",
              "  <thead>\n",
              "    <tr style=\"text-align: right;\">\n",
              "      <th></th>\n",
              "      <th>football</th>\n",
              "      <th>tennis</th>\n",
              "      <th>violin</th>\n",
              "      <th>theatre</th>\n",
              "    </tr>\n",
              "  </thead>\n",
              "  <tbody>\n",
              "    <tr>\n",
              "      <th>football</th>\n",
              "      <td>1.000000</td>\n",
              "      <td>0.595703</td>\n",
              "      <td>0.609436</td>\n",
              "      <td>0.666967</td>\n",
              "    </tr>\n",
              "    <tr>\n",
              "      <th>tennis</th>\n",
              "      <td>0.595703</td>\n",
              "      <td>1.000000</td>\n",
              "      <td>0.624276</td>\n",
              "      <td>0.642548</td>\n",
              "    </tr>\n",
              "    <tr>\n",
              "      <th>violin</th>\n",
              "      <td>0.609436</td>\n",
              "      <td>0.624276</td>\n",
              "      <td>1.000000</td>\n",
              "      <td>0.709355</td>\n",
              "    </tr>\n",
              "    <tr>\n",
              "      <th>theatre</th>\n",
              "      <td>0.666967</td>\n",
              "      <td>0.642548</td>\n",
              "      <td>0.709355</td>\n",
              "      <td>1.000000</td>\n",
              "    </tr>\n",
              "  </tbody>\n",
              "</table>\n",
              "</div>"
            ],
            "text/plain": [
              "          football    tennis    violin   theatre\n",
              "football  1.000000  0.595703  0.609436  0.666967\n",
              "tennis    0.595703  1.000000  0.624276  0.642548\n",
              "violin    0.609436  0.624276  1.000000  0.709355\n",
              "theatre   0.666967  0.642548  0.709355  1.000000"
            ]
          },
          "metadata": {
            "tags": []
          },
          "execution_count": 56
        }
      ]
    },
    {
      "cell_type": "code",
      "metadata": {
        "id": "rimb0YR10Uua",
        "colab_type": "code",
        "colab": {
          "base_uri": "https://localhost:8080/",
          "height": 108
        },
        "outputId": "32cef5de-81ac-4d88-c24e-851e4d70015f"
      },
      "source": [
        "elmo_embeddings_word=[]\n",
        "print (len(texts))\n",
        "for i in range(len(texts)):\n",
        "    print (texts[i])\n",
        "    elmo_embeddings_word.append(elmo_vectors_word(texts[i],2).squeeze())"
      ],
      "execution_count": 61,
      "outputs": [
        {
          "output_type": "stream",
          "text": [
            "4\n",
            "He played very good football\n",
            "He played tennis while he was in Tokyo\n",
            "He played violin in high school\n",
            "He played king in theatre\n"
          ],
          "name": "stdout"
        }
      ]
    },
    {
      "cell_type": "code",
      "metadata": {
        "id": "EKvk47mXCN_Q",
        "colab_type": "code",
        "colab": {
          "base_uri": "https://localhost:8080/",
          "height": 90
        },
        "outputId": "b837ab83-a497-4640-d8ca-69f18a6f54c8"
      },
      "source": [
        "relation_words = cosine_similarity(elmo_embeddings_word, elmo_embeddings_word)\n",
        "print(relation_words)"
      ],
      "execution_count": 62,
      "outputs": [
        {
          "output_type": "stream",
          "text": [
            "[[0.9999999  0.2986014  0.26330966 0.27360702]\n",
            " [0.2986014  1.0000001  0.5190791  0.32667577]\n",
            " [0.26330966 0.5190791  1.         0.34032404]\n",
            " [0.27360702 0.32667577 0.34032404 1.0000002 ]]\n"
          ],
          "name": "stdout"
        }
      ]
    },
    {
      "cell_type": "code",
      "metadata": {
        "id": "g8MtEVfrCTX9",
        "colab_type": "code",
        "colab": {
          "base_uri": "https://localhost:8080/",
          "height": 175
        },
        "outputId": "571088c3-ca70-4f2a-cef4-1c0d37401410"
      },
      "source": [
        "import pandas as pd\n",
        "cols = [\"football\",\"tennis\",\"violin\",\"theatre\"]\n",
        "pd.DataFrame(relation_words,columns=cols,index=cols)"
      ],
      "execution_count": 63,
      "outputs": [
        {
          "output_type": "execute_result",
          "data": {
            "text/html": [
              "<div>\n",
              "<style scoped>\n",
              "    .dataframe tbody tr th:only-of-type {\n",
              "        vertical-align: middle;\n",
              "    }\n",
              "\n",
              "    .dataframe tbody tr th {\n",
              "        vertical-align: top;\n",
              "    }\n",
              "\n",
              "    .dataframe thead th {\n",
              "        text-align: right;\n",
              "    }\n",
              "</style>\n",
              "<table border=\"1\" class=\"dataframe\">\n",
              "  <thead>\n",
              "    <tr style=\"text-align: right;\">\n",
              "      <th></th>\n",
              "      <th>football</th>\n",
              "      <th>tennis</th>\n",
              "      <th>violin</th>\n",
              "      <th>theatre</th>\n",
              "    </tr>\n",
              "  </thead>\n",
              "  <tbody>\n",
              "    <tr>\n",
              "      <th>football</th>\n",
              "      <td>1.000000</td>\n",
              "      <td>0.298601</td>\n",
              "      <td>0.263310</td>\n",
              "      <td>0.273607</td>\n",
              "    </tr>\n",
              "    <tr>\n",
              "      <th>tennis</th>\n",
              "      <td>0.298601</td>\n",
              "      <td>1.000000</td>\n",
              "      <td>0.519079</td>\n",
              "      <td>0.326676</td>\n",
              "    </tr>\n",
              "    <tr>\n",
              "      <th>violin</th>\n",
              "      <td>0.263310</td>\n",
              "      <td>0.519079</td>\n",
              "      <td>1.000000</td>\n",
              "      <td>0.340324</td>\n",
              "    </tr>\n",
              "    <tr>\n",
              "      <th>theatre</th>\n",
              "      <td>0.273607</td>\n",
              "      <td>0.326676</td>\n",
              "      <td>0.340324</td>\n",
              "      <td>1.000000</td>\n",
              "    </tr>\n",
              "  </tbody>\n",
              "</table>\n",
              "</div>"
            ],
            "text/plain": [
              "          football    tennis    violin   theatre\n",
              "football  1.000000  0.298601  0.263310  0.273607\n",
              "tennis    0.298601  1.000000  0.519079  0.326676\n",
              "violin    0.263310  0.519079  1.000000  0.340324\n",
              "theatre   0.273607  0.326676  0.340324  1.000000"
            ]
          },
          "metadata": {
            "tags": []
          },
          "execution_count": 63
        }
      ]
    },
    {
      "cell_type": "code",
      "metadata": {
        "id": "Fj2EBwgZCVqf",
        "colab_type": "code",
        "colab": {}
      },
      "source": [
        ""
      ],
      "execution_count": 0,
      "outputs": []
    }
  ]
}