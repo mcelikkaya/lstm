{
  "nbformat": 4,
  "nbformat_minor": 0,
  "metadata": {
    "colab": {
      "name": "LSTM_MIN_MAX.ipynb",
      "provenance": []
    },
    "kernelspec": {
      "name": "python3",
      "display_name": "Python 3"
    }
  },
  "cells": [
    {
      "cell_type": "code",
      "metadata": {
        "id": "dvyWHBPzKTPd",
        "colab_type": "code",
        "colab": {}
      },
      "source": [
        "import os\n",
        "os.environ['TF_CPP_MIN_LOG_LEVEL'] = '3'\n",
        "\n",
        "from numpy import array\n",
        "from keras.preprocessing.text import one_hot\n",
        "from keras.preprocessing.sequence import pad_sequences\n",
        "from keras.models import Sequential\n",
        "from keras.layers.core import Activation, Dropout, Dense\n",
        "from keras.layers import Flatten, LSTM\n",
        "from keras.layers import GlobalMaxPooling1D\n",
        "from keras.models import Model\n",
        "from keras.layers.embeddings import Embedding\n",
        "from sklearn.model_selection import train_test_split\n",
        "from keras.preprocessing.text import Tokenizer\n",
        "from keras.layers import Input\n",
        "from keras.layers.merge import Concatenate\n",
        "from keras.layers import Bidirectional\n",
        "import matplotlib.pyplot as plt\n",
        "\n",
        "import pandas as pd\n",
        "import numpy as np\n",
        "import re\n",
        "\n",
        "import matplotlib.pyplot as plt\n",
        "\n",
        "from random import seed\n",
        "from random import randint\n"
      ],
      "execution_count": 0,
      "outputs": []
    },
    {
      "cell_type": "markdown",
      "metadata": {
        "id": "aXES0CiorCuG",
        "colab_type": "text"
      },
      "source": [
        "I want to test if lstm can learn getting min and max over a sequence.\n",
        "I will be creating 2 dimension of 15 time_steps.\n",
        "I will create Y target variable with min of 1 dimension and max of other.\n",
        "\n",
        "Also for testing overfitting(memorizing intervals) I will train model in range 0-1000 in 1 model , but for other model I will use numbers in range 0-10000 for validation. Infact this will give bigger errors on training and validation , but network will be more corrective and generalized.\n",
        "I will do this for 2 types of architecture one for simple single LSTM and other combined ones.\n",
        "\n",
        "\n",
        "\n",
        "\n"
      ]
    },
    {
      "cell_type": "code",
      "metadata": {
        "id": "EN9lu0UwKU7Z",
        "colab_type": "code",
        "colab": {}
      },
      "source": [
        "seed(1)\n",
        "#generate random number with upper bound\n",
        "def getrand(upper_bound):\n",
        "  return randint(0, upper_bound)\n",
        "  \n",
        "#get min for 1st dimension get max for 2nd dimension  \n",
        "def generate_min_max(X):\n",
        "  Y = list()\n",
        "  for xsub in X:\n",
        "    new_item = list()\n",
        "    new_item.append(min(xsub[:,0:1])[0])\n",
        "    new_item.append(max(xsub[:,1:2])[0])\n",
        "    Y.append(new_item)\n",
        "\n",
        "  Y = np.array(Y)\n",
        "  return Y\n",
        "\n",
        "#generate random data and shape it according to dimension\n",
        "#generate a target variable of a timeseris of timesteps\n",
        "def generare_batch_data(num_sample,time_steps,num_features,upper_bound):  \n",
        "  Xsub = np.array([getrand(upper_bound) for x in range(num_sample * time_steps * num_features)])    \n",
        "  X = np.array(Xsub).reshape(num_sample, time_steps, num_features)\n",
        "  Y = generate_min_max(X)\n",
        "  return X,Y\n",
        "\n",
        "\n",
        "#given a history display 10 errors over time\n",
        "def plot_history(history):\n",
        "  history.history[\"mean_absolute_error\"]\n",
        "  indices = [i for i in range(0,len(history.history[\"mean_absolute_error\"]) ,int(len(history.history[\"mean_absolute_error\"]) / 10) )]\n",
        "  print(\"error values\",np.array(history.history[\"mean_absolute_error\"])[ indices] )\n",
        "\n",
        "  plt.plot(history.history[\"mean_absolute_error\"], 'ro' ,label = 'training acc')\n",
        "  plt.plot( history.history[\"val_mean_absolute_error\"], 'b' , label= 'validation acc')\n",
        "  plt.title('Training and Validation acc')\n",
        "  plt.legend()\n",
        "  plt.show()  \n",
        "\n",
        "#generate random test data and test model \n",
        "def test_model(bound,fitted_model,time_steps,num_features):\n",
        "  test_input_1 = np.array([getrand(bound) for x in range(1 * time_steps * num_features)])    \n",
        "  test_input_1 = test_input_1.reshape(1,time_steps,num_features)\n",
        "  print(\"input\",test_input_1)\n",
        "  test_model_with_input(model,test_input_1)\n",
        "  #test_output = fitted_model.predict(test_input_1, verbose=0) \n",
        "  #print(\"result\",test_output)\n",
        "\n",
        "def test_model_with_input(fitted_model,test_input): \n",
        "  test_output = fitted_model.predict(test_input, verbose=0) \n",
        "  print(\"result\",test_output) "
      ],
      "execution_count": 0,
      "outputs": []
    },
    {
      "cell_type": "code",
      "metadata": {
        "id": "yBKzsfttKafM",
        "colab_type": "code",
        "colab": {
          "base_uri": "https://localhost:8080/",
          "height": 476
        },
        "outputId": "2f9435da-13d7-4357-c8c5-397325d3e1b3"
      },
      "source": [
        "a,b = generare_batch_data(3,6,2,1000)\n",
        "print(a.shape)\n",
        "print(b.shape)\n",
        "print(a)\n",
        "print(b)\n",
        "test_input_1K = np.array([getrand(1000) for x in range(1 * 15 * 2)]).reshape(1,15,2)\n",
        "test_input_10K = np.array([getrand(10000) for x in range(1 * 15 * 2)]).reshape(1,15,2)"
      ],
      "execution_count": 52,
      "outputs": [
        {
          "output_type": "stream",
          "text": [
            "(3, 6, 2)\n",
            "(3, 2)\n",
            "[[[490 776]\n",
            "  [345 157]\n",
            "  [662 698]\n",
            "  [ 57 523]\n",
            "  [ 76 678]\n",
            "  [677 934]]\n",
            "\n",
            " [[375 600]\n",
            "  [297 482]\n",
            "  [301 462]\n",
            "  [222 799]\n",
            "  [ 67 677]\n",
            "  [635 610]]\n",
            "\n",
            " [[137 211]\n",
            "  [494 842]\n",
            "  [281 290]\n",
            "  [934 855]\n",
            "  [897 596]\n",
            "  [658 633]]]\n",
            "[[ 57 934]\n",
            " [ 67 799]\n",
            " [137 855]]\n"
          ],
          "name": "stdout"
        }
      ]
    },
    {
      "cell_type": "code",
      "metadata": {
        "id": "vnY6oiQ5KciX",
        "colab_type": "code",
        "colab": {}
      },
      "source": [
        "time_steps = 15\n",
        "num_features = 2\n",
        "num_samples = 100\n",
        "upper_bound = 1000\n",
        "X,Y = generare_batch_data(num_samples,time_steps,num_features,upper_bound)\n",
        "model1 = Sequential()\n",
        "model1.add(LSTM(50, activation='relu', input_shape=(time_steps, num_features)))\n",
        "model1.add(Dense(2))\n",
        "model1.compile(optimizer='adam', loss='mse',metrics=[\"mae\"])\n",
        "\n",
        "history = model1.fit(X, Y, epochs=1000, validation_split=0.2, verbose=0)"
      ],
      "execution_count": 0,
      "outputs": []
    },
    {
      "cell_type": "code",
      "metadata": {
        "id": "eozHt93EU9AL",
        "colab_type": "code",
        "colab": {
          "base_uri": "https://localhost:8080/",
          "height": 318
        },
        "outputId": "68c93d2d-e695-40af-c671-dbaacae62357"
      },
      "source": [
        "plot_history(history)\n"
      ],
      "execution_count": 35,
      "outputs": [
        {
          "output_type": "stream",
          "text": [
            "error values [485.86184082  88.9105957   58.56492233  87.74481049  50.04981995\n",
            "  43.59488907  37.60812454  62.44051208  43.89129639  49.240345  ]\n"
          ],
          "name": "stdout"
        },
        {
          "output_type": "display_data",
          "data": {
            "image/png": "[encoded data removed]",
            "text/plain": [
              "<Figure size 432x288 with 1 Axes>"
            ]
          },
          "metadata": {
            "tags": []
          }
        }
      ]
    },
    {
      "cell_type": "code",
      "metadata": {
        "id": "ci2BNkjBauzB",
        "colab_type": "code",
        "colab": {
          "base_uri": "https://localhost:8080/",
          "height": 311
        },
        "outputId": "b190e4ca-f403-4c61-9cb7-59bd9aae2f37"
      },
      "source": [
        "test_model(1000,model,15,2)\n"
      ],
      "execution_count": 36,
      "outputs": [
        {
          "output_type": "stream",
          "text": [
            "input [[[388 215]\n",
            "  [636 155]\n",
            "  [737 306]\n",
            "  [761 736]\n",
            "  [900 368]\n",
            "  [  1 729]\n",
            "  [721 703]\n",
            "  [314 454]\n",
            "  [509 174]\n",
            "  [691 149]\n",
            "  [ 31 379]\n",
            "  [447 567]\n",
            "  [350 895]\n",
            "  [820 525]\n",
            "  [501 325]]]\n",
            "result [[  35.23677 1065.2057 ]]\n"
          ],
          "name": "stdout"
        }
      ]
    },
    {
      "cell_type": "code",
      "metadata": {
        "id": "vlvr_8r8c4sa",
        "colab_type": "code",
        "colab": {}
      },
      "source": [
        "time_steps = 15\n",
        "num_features = 2\n",
        "num_samples = 100\n",
        "upper_bound = 1000\n",
        "X,Y = generare_batch_data(num_samples,time_steps,num_features,upper_bound)\n",
        "#validation set is in a different range\n",
        "X_val,Y_val = generare_batch_data(40,time_steps,num_features,10000)\n",
        "model2 = Sequential()\n",
        "model2.add(LSTM(50, activation='relu', input_shape=(time_steps, num_features)))\n",
        "model2.add(Dense(2))\n",
        "model2.compile(optimizer='adam', loss='mse',metrics=[\"mae\"])\n",
        "\n",
        "history = model2.fit(X, Y, epochs=1000, verbose=0, validation_data=(X_val,Y_val))"
      ],
      "execution_count": 0,
      "outputs": []
    },
    {
      "cell_type": "code",
      "metadata": {
        "id": "ca3KlpUsWRH-",
        "colab_type": "code",
        "colab": {
          "base_uri": "https://localhost:8080/",
          "height": 318
        },
        "outputId": "49958b2a-fe45-492c-c0c7-fb85fc2916f4"
      },
      "source": [
        "plot_history(history)\n"
      ],
      "execution_count": 38,
      "outputs": [
        {
          "output_type": "stream",
          "text": [
            "error values [637.69416016 102.74638306  76.10164917  70.12509705 120.54999847\n",
            "  68.00061005  63.72391754  56.53757355  44.86054306  42.75052185]\n"
          ],
          "name": "stdout"
        },
        {
          "output_type": "display_data",
          "data": {
            "image/png": "[encoded data removed]",
            "text/plain": [
              "<Figure size 432x288 with 1 Axes>"
            ]
          },
          "metadata": {
            "tags": []
          }
        }
      ]
    },
    {
      "cell_type": "code",
      "metadata": {
        "id": "ro7ibvTHKhZN",
        "colab_type": "code",
        "colab": {
          "base_uri": "https://localhost:8080/",
          "height": 311
        },
        "outputId": "a2dfeba6-f104-411e-bf02-5c25cb9b3d4a"
      },
      "source": [
        "test_model(1000,model2,15,2)"
      ],
      "execution_count": 39,
      "outputs": [
        {
          "output_type": "stream",
          "text": [
            "input [[[652 920]\n",
            "  [710 258]\n",
            "  [437 983]\n",
            "  [591 482]\n",
            "  [619  49]\n",
            "  [301 543]\n",
            "  [824 505]\n",
            "  [352 506]\n",
            "  [134 457]\n",
            "  [148 909]\n",
            "  [663 712]\n",
            "  [485 977]\n",
            "  [865 154]\n",
            "  [897 238]\n",
            "  [341 798]]]\n",
            "result [[185.54938 644.83966]]\n"
          ],
          "name": "stdout"
        }
      ]
    },
    {
      "cell_type": "code",
      "metadata": {
        "id": "-HJ9xn_XKnwk",
        "colab_type": "code",
        "colab": {}
      },
      "source": [
        "time_steps = 15\n",
        "num_features = 2\n",
        "num_samples = 100\n",
        "upper_bound = 1000\n",
        "X,Y = generare_batch_data(num_samples,time_steps,num_features,upper_bound)\n",
        "\n",
        "model3 = Sequential()\n",
        "model3.add(LSTM(100, activation='relu', return_sequences=True, input_shape=(time_steps, num_features)))\n",
        "model3.add(LSTM(50, activation='relu', return_sequences=True))\n",
        "model3.add(LSTM(25, activation='relu'))\n",
        "model3.add(Dense(10, activation='relu'))\n",
        "model3.add(Dense(2))\n",
        "model3.compile(optimizer='adam', loss='mse',metrics=[\"mae\"])\n",
        "\n",
        "history = model3.fit(X, Y, epochs=500, validation_split=0.2, verbose=0)"
      ],
      "execution_count": 0,
      "outputs": []
    },
    {
      "cell_type": "code",
      "metadata": {
        "id": "sBrYwfZ4KpVh",
        "colab_type": "code",
        "colab": {
          "base_uri": "https://localhost:8080/",
          "height": 318
        },
        "outputId": "f13f5cdf-be2c-44eb-90cf-cd4537c00d1a"
      },
      "source": [
        "plot_history(history)\n"
      ],
      "execution_count": 42,
      "outputs": [
        {
          "output_type": "stream",
          "text": [
            "error values [792.67363281 296.47498169 116.42660217  75.46988831  67.52264557\n",
            "  87.26601715  76.32117615  83.15317383  65.43011703  61.33109436]\n"
          ],
          "name": "stdout"
        },
        {
          "output_type": "display_data",
          "data": {
            "image/png": "[encoded data removed]",
            "text/plain": [
              "<Figure size 432x288 with 1 Axes>"
            ]
          },
          "metadata": {
            "tags": []
          }
        }
      ]
    },
    {
      "cell_type": "code",
      "metadata": {
        "id": "rZxpdXRxKs9M",
        "colab_type": "code",
        "colab": {}
      },
      "source": [
        ""
      ],
      "execution_count": 0,
      "outputs": []
    },
    {
      "cell_type": "code",
      "metadata": {
        "id": "A-gU7mLpKwiS",
        "colab_type": "code",
        "colab": {}
      },
      "source": [
        "time_steps = 15\n",
        "num_features = 2\n",
        "num_samples = 100\n",
        "upper_bound = 1000\n",
        "X,Y = generare_batch_data(num_samples,time_steps,num_features,upper_bound)\n",
        "X_val,Y_val = generare_batch_data(40,time_steps,num_features,10000)\n",
        "\n",
        "model4 = Sequential()\n",
        "model4.add(LSTM(100, activation='relu', return_sequences=True, input_shape=(time_steps, num_features)))\n",
        "model4.add(LSTM(50, activation='relu', return_sequences=True))\n",
        "model4.add(LSTM(25, activation='relu'))\n",
        "model4.add(Dense(10, activation='relu'))\n",
        "model4.add(Dense(2))\n",
        "model4.compile(optimizer='adam', loss='mse',metrics=[\"mae\"])\n",
        "\n",
        "history = model4.fit(X,Y,  epochs=500, validation_data=(X_val,Y_val), verbose=0)"
      ],
      "execution_count": 0,
      "outputs": []
    },
    {
      "cell_type": "code",
      "metadata": {
        "id": "nIa_BCBRLCu6",
        "colab_type": "code",
        "colab": {
          "base_uri": "https://localhost:8080/",
          "height": 318
        },
        "outputId": "8867460f-8997-4e89-8d0f-749aab9d0173"
      },
      "source": [
        "plot_history(history)\n"
      ],
      "execution_count": 45,
      "outputs": [
        {
          "output_type": "stream",
          "text": [
            "error values [514.73721924 225.37139648 129.63901672  84.62594849  52.5078302\n",
            "  46.76524261  36.78643402  44.59625603  30.870811    61.46368866]\n"
          ],
          "name": "stdout"
        },
        {
          "output_type": "display_data",
          "data": {
            "image/png": "[encoded data removed]",
            "text/plain": [
              "<Figure size 432x288 with 1 Axes>"
            ]
          },
          "metadata": {
            "tags": []
          }
        }
      ]
    },
    {
      "cell_type": "code",
      "metadata": {
        "id": "MmHeIh1ILI0Y",
        "colab_type": "code",
        "colab": {}
      },
      "source": [
        ""
      ],
      "execution_count": 0,
      "outputs": []
    },
    {
      "cell_type": "code",
      "metadata": {
        "id": "5b2jdEPSLLCU",
        "colab_type": "code",
        "colab": {}
      },
      "source": [
        ""
      ],
      "execution_count": 0,
      "outputs": []
    },
    {
      "cell_type": "code",
      "metadata": {
        "id": "hnnReg51Mlwh",
        "colab_type": "code",
        "colab": {
          "base_uri": "https://localhost:8080/",
          "height": 439
        },
        "outputId": "bca50f3c-95aa-4380-a7b2-e0a8340f0876"
      },
      "source": [
        "print(\"input\",test_input_1K)\n",
        "print(\"model1 \" )\n",
        "test_model_with_input(model1,test_input_1K)\n",
        "print(\"model2 \")\n",
        "test_model_with_input(model2,test_input_1K)\n",
        "print(\"model3 \" )\n",
        "test_model_with_input(model3,test_input_1K)\n",
        "print(\"model4 \" )\n",
        "test_model_with_input(model4,test_input_1K)"
      ],
      "execution_count": 56,
      "outputs": [
        {
          "output_type": "stream",
          "text": [
            "input [[[ 40 527]\n",
            "  [118 188]\n",
            "  [374 307]\n",
            "  [157 738]\n",
            "  [223  15]\n",
            "  [269 864]\n",
            "  [586 406]\n",
            "  [446 352]\n",
            "  [458 394]\n",
            "  [914 128]\n",
            "  [716 396]\n",
            "  [205 460]\n",
            "  [ 59 741]\n",
            "  [291 271]\n",
            "  [265  40]]]\n",
            "model1 \n",
            "result [[ 48.21759 791.6238 ]]\n",
            "model2 \n",
            "result [[ 57.060608 784.19836 ]]\n",
            "model3 \n",
            "result [[ 53.429996 622.5426  ]]\n",
            "model4 \n",
            "result [[ 54.01343 891.37   ]]\n"
          ],
          "name": "stdout"
        }
      ]
    },
    {
      "cell_type": "code",
      "metadata": {
        "id": "vWZlWIi3XvZ3",
        "colab_type": "code",
        "colab": {
          "base_uri": "https://localhost:8080/",
          "height": 439
        },
        "outputId": "da9ef92d-5998-40bb-cdbf-c0c486765ab8"
      },
      "source": [
        "print(\"input\",test_input_10K)\n",
        "print(\"model1 \" )\n",
        "test_model_with_input(model1,test_input_10K)\n",
        "print(\"model2 \")\n",
        "test_model_with_input(model2,test_input_10K)\n",
        "print(\"model3 \" )\n",
        "test_model_with_input(model3,test_input_10K)\n",
        "print(\"model4 \" )\n",
        "test_model_with_input(model4,test_input_10K)"
      ],
      "execution_count": 55,
      "outputs": [
        {
          "output_type": "stream",
          "text": [
            "input [[[9348 3222]\n",
            "  [6211 7604]\n",
            "  [3812 8829]\n",
            "  [3784 4151]\n",
            "  [2153 9203]\n",
            "  [5517  708]\n",
            "  [ 170 8042]\n",
            "  [1962 2486]\n",
            "  [2319  552]\n",
            "  [8319 4577]\n",
            "  [4947  104]\n",
            "  [8535  152]\n",
            "  [3540 6606]\n",
            "  [9490 1797]\n",
            "  [5827 7007]]]\n",
            "model1 \n",
            "result [[ 342.05954 7758.4473 ]]\n",
            "model2 \n",
            "result [[ 102.73612 9220.832  ]]\n",
            "model3 \n",
            "result [[ 1601.4403 12561.631 ]]\n",
            "model4 \n",
            "result [[ 653.67566 9743.406  ]]\n"
          ],
          "name": "stdout"
        }
      ]
    },
    {
      "cell_type": "code",
      "metadata": {
        "id": "8S6_1FLOYdP5",
        "colab_type": "code",
        "colab": {}
      },
      "source": [
        ""
      ],
      "execution_count": 0,
      "outputs": []
    },
    {
      "cell_type": "code",
      "metadata": {
        "id": "MtGrukCtYxdF",
        "colab_type": "code",
        "colab": {}
      },
      "source": [
        ""
      ],
      "execution_count": 0,
      "outputs": []
    },
    {
      "cell_type": "code",
      "metadata": {
        "id": "O9-CBbV1j3zv",
        "colab_type": "code",
        "colab": {}
      },
      "source": [
        ""
      ],
      "execution_count": 0,
      "outputs": []
    },
    {
      "cell_type": "code",
      "metadata": {
        "id": "EBHlWoZYmTip",
        "colab_type": "code",
        "colab": {}
      },
      "source": [
        ""
      ],
      "execution_count": 0,
      "outputs": []
    },
    {
      "cell_type": "code",
      "metadata": {
        "id": "QWUHOQd_n1KB",
        "colab_type": "code",
        "colab": {}
      },
      "source": [
        ""
      ],
      "execution_count": 0,
      "outputs": []
    },
    {
      "cell_type": "code",
      "metadata": {
        "id": "n0PoyMl3oBzu",
        "colab_type": "code",
        "colab": {}
      },
      "source": [
        ""
      ],
      "execution_count": 0,
      "outputs": []
    },
    {
      "cell_type": "code",
      "metadata": {
        "id": "G9abySjXS3ya",
        "colab_type": "code",
        "colab": {}
      },
      "source": [
        ""
      ],
      "execution_count": 0,
      "outputs": []
    },
    {
      "cell_type": "code",
      "metadata": {
        "id": "Hr9Mh8IGoxQf",
        "colab_type": "code",
        "colab": {}
      },
      "source": [
        ""
      ],
      "execution_count": 0,
      "outputs": []
    },
    {
      "cell_type": "code",
      "metadata": {
        "id": "Z1CY_IM8bfOz",
        "colab_type": "code",
        "colab": {}
      },
      "source": [
        ""
      ],
      "execution_count": 0,
      "outputs": []
    },
    {
      "cell_type": "code",
      "metadata": {
        "id": "rqeTGQE4pQK1",
        "colab_type": "code",
        "colab": {}
      },
      "source": [
        ""
      ],
      "execution_count": 0,
      "outputs": []
    },
    {
      "cell_type": "code",
      "metadata": {
        "id": "M-MWRehQplMU",
        "colab_type": "code",
        "colab": {}
      },
      "source": [
        ""
      ],
      "execution_count": 0,
      "outputs": []
    },
    {
      "cell_type": "code",
      "metadata": {
        "id": "GBUp_RhTr3tk",
        "colab_type": "code",
        "colab": {}
      },
      "source": [
        ""
      ],
      "execution_count": 0,
      "outputs": []
    },
    {
      "cell_type": "code",
      "metadata": {
        "id": "NRy3_Jsjr74q",
        "colab_type": "code",
        "colab": {}
      },
      "source": [
        ""
      ],
      "execution_count": 0,
      "outputs": []
    },
    {
      "cell_type": "code",
      "metadata": {
        "id": "7GZUMTVjfzYL",
        "colab_type": "code",
        "colab": {}
      },
      "source": [
        ""
      ],
      "execution_count": 0,
      "outputs": []
    }
  ]
}