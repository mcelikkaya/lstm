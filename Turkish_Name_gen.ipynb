{
  "nbformat": 4,
  "nbformat_minor": 0,
  "metadata": {
    "colab": {
      "name": "Turkish_Name_gen.ipynb",
      "provenance": [],
      "collapsed_sections": []
    },
    "kernelspec": {
      "name": "python3",
      "display_name": "Python 3"
    }
  },
  "cells": [
    {
      "cell_type": "code",
      "metadata": {
        "id": "n3VvyabhUQAE",
        "colab_type": "code",
        "colab": {}
      },
      "source": [
        "'''\n",
        "Application of name generator to Turkish names.\n",
        "In other languages I cannot have an idea if generated words have resemblence.\n",
        "I try in 2 ways. \n",
        "1)With names sorted in alphabetic order\n",
        "2)With shuffled names\n",
        "\n",
        "Both seems to generate some meaningful resemblence(ofcourse only natives can understand)\n",
        "Best generation I saw was gulay.\n",
        "gülay = gul + ay\n",
        "which  are rose + moon\n",
        "these 2 words are part of lots of names\n",
        "names with \"gül\" exists  in trainin set.\n",
        "and \"ay\" exists in lots of names.\n",
        "So generating gülay seems so nice.\n",
        "Other names which sounds as Turkish names generated :\n",
        "_____________________\n",
        "raya\n",
        "erdan\n",
        "ada\n",
        "ilvan\n",
        "ikran\n",
        "alime\n",
        "eyran\n",
        "\n",
        "'''\n",
        "import numpy as np\n",
        "from keras.models import Sequential\n",
        "from keras.layers import LSTM, Dense\n",
        "from keras.callbacks import LambdaCallback\n",
        "from keras.layers import Dropout \n"
      ],
      "execution_count": 0,
      "outputs": []
    },
    {
      "cell_type": "code",
      "metadata": {
        "id": "HJ1RgwKRUWh9",
        "colab_type": "code",
        "colab": {}
      },
      "source": [
        "a_v_names = ['Abdullah', 'Abidin', 'Acelya', 'Adam', 'Adalet', 'Adil', 'Adile', 'Adnan', 'Afet', 'Agah', 'Ahmet', 'Ahu', 'Ajda', 'Akçay', 'Akhun', 'Alaattin', 'Alev', 'Ali', 'Aliye', 'Alim', 'Alp', 'Alparslan', 'Alptekin', 'Altan', 'Altay', 'Altuğ', 'Aral', 'Aras', 'Arda', 'Argun', 'Arzu', 'Asil', 'Aslan', 'Asuman', 'Asya', 'Ata', 'Atabey', 'Atakan', 'Ates', 'Atilla', 'Avni', 'Aybars', 'Ayberk', 'Aydan', 'Aydın', 'Ayfer', 'Aysel', 'Aysu', 'Aysun', 'Aytaç', 'Ayten', 'Azime', 'Aziz', 'Azize', 'Azmi', 'Azmiye', 'Bahri', 'Bahtiyar', 'Baki', 'Bala', 'Balaban', 'Baler', 'Bahar', 'Bahriye', 'Bariş', 'Battal', 'Batur', 'Bayar', 'Bayram', 'Bedia', 'Behice', 'Behiye', 'Behlil', 'Bekir', 'Belgin', 'Beliğ', 'Benan', 'Bengul', 'Bensu', 'Berfu', 'Beria', 'Beril', 'Berna', 'Berk', 'Berrak', 'Besim', 'Beste', 'Beyza', 'Bihter', 'Bikem', 'Bilge', 'Bilgin', 'Billur', 'Binnaz', 'Binnur', 'Birdal', 'Birgül', 'Birol', 'Birsen', 'Birsu', 'Bora', 'Bozkurt', 'Buğra', 'Bülent', 'Buket', 'Bunyamin', 'Bulut', 'Bumin', 'Burç', 'Burçak', 'Burçin', 'Burcu', 'Buğra', 'Burak', 'Cahit', 'Cahide', 'Can', 'Canan', 'Candan', 'Cansu', 'Celal', 'Celalettin', 'Cemal', 'Cemil', 'Cemile', 'Cemre', 'Cengiz', 'Cenk', 'Cennet', 'Ceyhun', 'Cihan', 'Cihangir', 'Civan', 'Cumhur', 'Çağ', 'Çağatay', 'Çağla', 'Çağlayan', 'Çağri', 'Çiçek', 'Çiğdem', 'Çelik', 'Çetin', 'Çınar', 'Damla', 'Defne', 'Deha', 'Demir', 'Demet', 'Deniz', 'Deren', 'Derya', 'Destan', 'Deste', 'Devrim', 'Dicle', 'Dilara', 'Dilaver', 'Diler', 'Dilruba', 'Dinçer', 'Direnç', 'Doğu', 'Doğukan', 'Doruk', 'Dursun', 'Durukan', 'Durul', 'Duyal', 'Duygu', 'Dünya', 'Ebru', 'Ece', 'Efe', 'Ege', 'Egemen', 'Ejder', 'Ekber', 'Ekmel', 'Ekin', 'Ekrem', 'Ela', 'Elif', 'Elmas', 'Elvan', 'Emel', 'Emin', 'Emine', 'Emir', 'Emre', 'Ender', 'Engin', 'Enis', 'Enver', 'Erdem', 'Erdinç', 'Eren', 'Erenay', 'Ergin', 'Erhan', 'Erim', 'Erkan', 'Erkin', 'Erman', 'Erol', 'Ersin', 'Ertan', 'Esad', 'Esel', 'Esen', 'Eser', 'Esin', 'Esma', 'Esmeray', 'Esra', 'Etkin', 'Evren', 'Evrim', 'Fadıl', 'Fahrettin', 'Fahri', 'Fahriye', 'Faik', 'Fakir', 'Fatih', 'Fatma', 'Fazıl', 'Fazilet', 'Fehime', 'Fehmi', 'Fem', 'Ferah', 'Feray', 'Ferda', 'Ferdi', 'Ferhan', 'Ferhat', 'Ferit', 'Feride', 'Feriha', 'Fevzi', 'Feyzi', 'Feyza', 'Feza', 'Fırat', 'Fidan', 'Fikret', 'Fikri', 'Fikriye', 'Filiz', 'Firdevs', 'Fıtnat', 'Fuat', 'Fulya', 'Funda', 'Fusun', 'Galip', 'Gamze', 'Gani', 'Garip', 'Gaye', 'Gazi', 'Gizem', 'Gonca', 'Gökay', 'Gokberk', 'Gokcan', 'Göker', 'Gökhun', 'Göksel', 'Göktuğ', 'Gönül', 'Gözde', 'Güher', 'Gül', 'Gülbahar', 'Gülben', 'Gülçin', 'Gülden', 'Güldeste', 'Gülen', 'Güler', 'Gülfem', 'Gülgün', 'Gülhan', 'Gülistan', 'Gülizar', 'Güllü', 'Gülnaz', 'Gülpembe', 'Gülriz', 'Gülsen', 'Gülsün', 'Gülten', 'Günay', 'Günçe', 'Gündüz', 'Güneş', 'Güngör', 'Günhan', 'Günsel', 'Günseli', 'Güray', 'Gürcan', 'Gürsel', 'Güven', 'Güzide', 'Güzin', 'Habib', 'Hadis', 'Hafız', 'Hafize', 'Halil', 'Halim', 'Halis', 'Haluk', 'Hamit', 'Hamide', 'Hamiyet', 'Handan', 'Hande', 'Hanife', 'Hanım', 'Harika', 'Hasbi', 'Hasibe', 'Haşmet', 'Hatay', 'Havva', 'Hayal', 'Hayat', 'Hayati', 'Hayri', 'Hayriye', 'Hazan', 'Hazım', 'Hediye', 'Hilal', 'Hıncal', 'Hızır', 'Hikmet', 'Hilmi', 'Himmet', 'Hulusi', 'Hun', 'Huri', 'Huriye', 'Hurşit', 'Hüdaverdi', 'Hülya', 'Hümeyra', 'Hüner', 'Hürmüz', 'Hürrem', 'Hürriyet', 'Hüseyin', 'Hüsnü', 'Hüsnüye', 'ibrahim', 'idris', 'iffet', 'ihsan', 'ikbal', 'ilhan', 'ilhami', 'ilkay', 'ilkben', 'ilke', 'ilker', 'ilkin', 'ilknur', 'ilksen', 'imdat', 'imge', 'imran', 'inci', 'insan', 'ipek', 'irem', 'isa', 'ishak', 'iskender', 'islam', 'ismail', 'ismet', 'izzet', 'izzettin', 'Jale', 'Jülide', 'Kaan', 'Kader', 'Kadir', 'Kadri', 'Kadriye', 'Kamber', 'Kamelya', 'Kamer', 'Kamil', 'Kamile', 'Kamuran', 'Kartal', 'Katife', 'Kaya', 'Kayahan', 'Kazım', 'Kemal', 'Kent', 'Kerem', 'Kerim', 'Kevser', 'Kıvanç', 'Kiraz', 'Koray', 'Korkmaz', 'Koksal', 'Kubilay', 'Kudret', 'Kumru', 'Kumsal', 'Kurt', 'Kutlay', 'Kutlu', 'Kutsal', 'Kutsi', 'Kuzey', 'Lale', 'Lalegün', 'Lalehan', 'Latif', 'Latife', 'Lemi', 'Leman', 'Leyla', 'Levent', 'Lokman', 'Lütfü', 'Macit', 'Macide', 'Mahfuze', 'Mahir', 'Mahmut', 'Mahzun', 'Makbule', 'Manolya', 'Masal', 'Mazhar', 'Mecnun', 'Mehmet', 'Mehpare', 'Mehtap', 'Mehveç', 'Melda', 'Melek', 'Melih', 'Meliha', 'Melik', 'Melike', 'Melodi', 'Meltem', 'Menderes', 'Menekşe', 'Meral', 'Meriç', 'Merih', 'Mert', 'Merve', 'Meryem', 'Mestan', 'Mesut', 'Mete', 'Metin', 'Mevlut', 'Mihriban', 'Mine', 'Miraç', 'Mualla', 'Muammer', 'Mucip', 'Muhammed', 'Muhsin', 'Muhtar', 'Muhteşem', 'Mukadder', 'Mukaddes', 'Mukrime', 'Munire', 'Munis', 'Munise', 'Murat', 'Musa', 'Mustafa', 'Mutlu', 'Muzaffer', 'Müberra', 'Mücahit', 'Mücella', 'Müjdat', 'Müşerref', 'Müge', 'Müjde', 'Naciye', 'Nadide', 'Nadire', 'Nalan', 'Naz', 'Nazan', 'Nazli', 'Nebahat', 'Necla', 'Necmiye', 'Neşe', 'Nehir', 'Nergis', 'Nermin', 'Neslihan', 'Neslişah', 'Nesrin', 'Netice', 'Nevcivan', 'Nevin', 'Nigar', 'Nihal', 'Nihan', 'Nil', 'Nilgün', 'Nilüfer', 'Nimet', 'Nisa', 'Nisan', 'Nur', 'Nural', 'Nuran', 'Nuray', 'Nurcan', 'Nurgül', 'Nurhan', 'Nuriye', 'Nursel', 'Nurseli', 'Nursen', 'Nurten', 'Orhan', 'Osman', 'Oya', 'Ozan', 'Ömür', 'Öykü', 'Özge', 'Özlem', 'Pelin', 'Pembe', 'Peri', 'Perihan', 'Perran', 'Pertev', 'Pervin', 'Petek', 'Pınar', 'Pırıltı', 'Piraye', 'Rabia', 'Rana', 'Renan', 'Rengin', 'Reyhan', 'Reyyan', 'Rüya', 'Saadet', 'Sabahat', 'Sabite', 'Sabriye', 'Sacide', 'Safiye', 'Sahiba', 'Saliha', 'Salime', 'Samime', 'Sanem', 'Saniye', 'Seçil', 'Seda', 'Sedef', 'Seher', 'Selin', 'Selva', 'Selvi', 'Sema', 'Semahat', 'Semiha', 'Semra', 'Sena', 'Serap', 'Serin', 'Serpil', 'Serra', 'Sevda', 'Sevdi', 'Sevgi', 'Sevil', 'Sevim', 'Sevinç', 'Sevtap', 'Sevval', 'Seyhan', 'Seyyal', 'Sezen', 'Sezer', 'Sıdıka', 'Sıla', 'Sırma', 'Sim', 'Simge', 'Simten', 'Siren', 'Solmaz', 'Sonay', 'Songül', 'Su', 'Sultan', 'Suna', 'Sunay', 'Sungu', 'Suzan', 'Süheyla', 'Şafak', 'Şahika', 'Şebnem', 'Şefika', 'Şehnaz', 'Şelale', 'Şenay', 'Şengul', 'Şennur', 'Şermin', 'Şeyda', 'Şeyma', 'Şevval', 'Şima', 'Şiir', 'Şule', 'Şükran', 'Şükriye', 'Tahir', 'Tahsin', 'Tan', 'Taner', 'Tansel', 'Tanyeli', 'Tarık', 'Taşkın', 'Tayfun', 'Taylan', 'Tayyar', 'Tayyib', 'Tayyibe', 'Tekin', 'Temel', 'Tevfik', 'Tevrat', 'Tezcan', 'Tezer', 'Timur', 'Tolga', 'Tolunay', 'Toros', 'Tosun', 'Toygar', 'Tuba', 'Tufan', 'Tuna', 'Tunç', 'Tuncay', 'Tuncer', 'Turgay', 'Turgut', 'Turna', 'Tutku', 'Tülay', 'Tümay', 'Türkay', 'Türkekul', 'Türker', 'Türkol', 'Ufuk', 'Uğur', 'Ulu', 'Uluç', 'Ulvi', 'Ulviye', 'Umur', 'Umut', 'Uygur', 'Utku', 'Utkan', 'Uzay', 'Ülker', 'Ülkü', 'Ümmiye', 'Ümmühan', 'Ümit', 'Ünal', 'Ünseli', 'Ünver', 'Ünyay', 'Vahit', 'Vahide', 'Vecdi', 'Vecihi', 'Vedat', 'Vefa', 'Verda', 'Vicdan', 'Vildan', 'Volkan', 'Vuslat']"
      ],
      "execution_count": 0,
      "outputs": []
    },
    {
      "cell_type": "code",
      "metadata": {
        "id": "xnxXUVm4V4yI",
        "colab_type": "code",
        "colab": {
          "base_uri": "https://localhost:8080/",
          "height": 35
        },
        "outputId": "01cd5e8a-14af-4b1a-c72f-879c93ad39c2"
      },
      "source": [
        "#make lower case and put . to mark sequence end\n",
        "names = list(map(lambda s: s.lower() + '.', a_v_names))\n",
        "' '.join(names[0:20])\n"
      ],
      "execution_count": 4,
      "outputs": [
        {
          "output_type": "execute_result",
          "data": {
            "text/plain": [
              "'abdullah. abidin. acelya. adam. adalet. adil. adile. adnan. afet. agah. ahmet. ahu. ajda. akçay. akhun. alaattin. alev. ali. aliye. alim.'"
            ]
          },
          "metadata": {
            "tags": []
          },
          "execution_count": 4
        }
      ]
    },
    {
      "cell_type": "code",
      "metadata": {
        "id": "JOkKpzY7Wrgo",
        "colab_type": "code",
        "colab": {}
      },
      "source": [
        "#add special turkish chars to dictionaries\n",
        "char_to_index = dict( (chr(i+96), i) for i in range(1,27))\n",
        "char_to_index = dict( (chr(i+96), i) for i in range(1,27))\n",
        "char_to_index[' '] = 0\n",
        "char_to_index['.'] = 27\n",
        "char_to_index['ç'] = 28\n",
        "char_to_index['ğ'] = 29\n",
        "char_to_index['ı'] = 30\n",
        "char_to_index['ş'] = 31\n",
        "char_to_index['ü'] = 32\n",
        "char_to_index['ö'] = 33\n",
        "\n",
        "index_to_char = dict( (i, chr(i+96)) for i in range(1,27))\n",
        "index_to_char[0] = ' '\n",
        "index_to_char[27] = '.'\n",
        "index_to_char[28] = 'ç'\n",
        "index_to_char[29] = 'ğ'\n",
        "index_to_char[30] = 'ı'\n",
        "index_to_char[31] = 'ş'\n",
        "index_to_char[32] = 'ü'\n",
        "index_to_char[33] = 'ö'\n",
        "\n",
        "max_char = len(max(names, key=len))\n",
        "char_dim = len(char_to_index)\n",
        "\n",
        "def gen_data(names):\n",
        "\n",
        "\n",
        "  max_char = len(max(names, key=len))\n",
        "  m = len(names)\n",
        "  char_dim = len(char_to_index)\n",
        "  \n",
        "  \n",
        "  X = np.zeros((m, max_char, char_dim))\n",
        "  Y = np.zeros((m, max_char, char_dim))\n",
        "  #m\n",
        "  for i in range(m):\n",
        "      name = list(names[i])      \n",
        "      for j in range(len(name)):          \n",
        "          X[i, j, char_to_index[name[j]]] = 1\n",
        "          if j < len(name)-1:\n",
        "              Y[i, j, char_to_index[name[j+1]]] = 1\n",
        "              \n",
        "  \n",
        "  return X,Y,max_char,char_dim,index_to_char\n",
        "\n",
        "def get_model(max_char,char_dim):\n",
        "  model = Sequential()\n",
        "  model.add(LSTM(128, input_shape=(max_char, char_dim), return_sequences=True))\n",
        "  model.add(Dense(char_dim, activation='softmax'))\n",
        "  model.compile(loss='categorical_crossentropy', optimizer='adam')  \n",
        "  return model"
      ],
      "execution_count": 0,
      "outputs": []
    },
    {
      "cell_type": "code",
      "metadata": {
        "id": "Qrxj5a0NiJJG",
        "colab_type": "code",
        "colab": {}
      },
      "source": [
        "def get_rnd(zeros):\n",
        "  for i in range(zeros.shape[1]):    \n",
        "    index = np.random.randint(20, size=1)[0]\n",
        "    zeros[0][i][index] = 1\n",
        "  return zeros   \n",
        "\n",
        "\n",
        "def make_name(model):\n",
        "    name = []\n",
        "    x = np.zeros((1, max_char, char_dim))\n",
        "    #x = get_rnd(x)\n",
        "    end = False\n",
        "    i = 0\n",
        "    \n",
        "    while end==False:\n",
        "        probs = list(model.predict(x)[0,i])\n",
        "        probs = probs / np.sum(probs)\n",
        "        index = np.random.choice(range(char_dim), p=probs)\n",
        "        #index = np.argmax( probs)\n",
        "        if i == max_char-2:\n",
        "            character = '.'\n",
        "            end = True\n",
        "        else:\n",
        "            character = index_to_char[index]\n",
        "        name.append(character)\n",
        "        x[0, i+1, index] = 1\n",
        "        i += 1\n",
        "        if character == '.':\n",
        "            end = True\n",
        "    \n",
        "    return ''.join(name)\n",
        "\n",
        "#Put N if name is not in training set\n",
        "def generate_name_loop(epoch, _):\n",
        "    if epoch % 25 == 0:\n",
        "        \n",
        "        print('Names generated after epoch %d:' % epoch)\n",
        "\n",
        "        for i in range(3):\n",
        "            new_name = make_name(model)\n",
        "            if new_name not in names:\n",
        "              print(new_name + \"       \"+\"N\")\n",
        "            else  :\n",
        "              print(new_name )\n",
        "        \n",
        "            "
      ],
      "execution_count": 0,
      "outputs": []
    },
    {
      "cell_type": "code",
      "metadata": {
        "id": "GeYZeT3BhpTH",
        "colab_type": "code",
        "outputId": "2be077ff-a770-499a-9658-397cec1230bf",
        "colab": {
          "base_uri": "https://localhost:8080/",
          "height": 623
        }
      },
      "source": [
        "X,Y,max_char,char_dim,index_to_char = gen_data(names)\n",
        "print(\"X\",X.shape)\n",
        "print(\"Y\",Y.shape)\n",
        "print(\"max_char\",max_char)\n",
        "def decode(encoded):\n",
        "  decoded = []\n",
        "  for c in encoded:        \n",
        "    index = np.argmax(c)\n",
        "    character = index_to_char[index]    \n",
        "    decoded.append( character )\n",
        "  return ' '.join(decoded)\n",
        "\n",
        "\n",
        "[decode(z) for z in X[0:30]]\n"
      ],
      "execution_count": 47,
      "outputs": [
        {
          "output_type": "stream",
          "text": [
            "X (715, 11, 34)\n",
            "Y (715, 11, 34)\n",
            "max_char 11\n"
          ],
          "name": "stdout"
        },
        {
          "output_type": "execute_result",
          "data": {
            "text/plain": [
              "['a b d u l l a h .    ',\n",
              " 'a b i d i n .        ',\n",
              " 'a c e l y a .        ',\n",
              " 'a d a m .            ',\n",
              " 'a d a l e t .        ',\n",
              " 'a d i l .            ',\n",
              " 'a d i l e .          ',\n",
              " 'a d n a n .          ',\n",
              " 'a f e t .            ',\n",
              " 'a g a h .            ',\n",
              " 'a h m e t .          ',\n",
              " 'a h u .              ',\n",
              " 'a j d a .            ',\n",
              " 'a k ç a y .          ',\n",
              " 'a k h u n .          ',\n",
              " 'a l a a t t i n .    ',\n",
              " 'a l e v .            ',\n",
              " 'a l i .              ',\n",
              " 'a l i y e .          ',\n",
              " 'a l i m .            ',\n",
              " 'a l p .              ',\n",
              " 'a l p a r s l a n .  ',\n",
              " 'a l p t e k i n .    ',\n",
              " 'a l t a n .          ',\n",
              " 'a l t a y .          ',\n",
              " 'a l t u ğ .          ',\n",
              " 'a r a l .            ',\n",
              " 'a r a s .            ',\n",
              " 'a r d a .            ',\n",
              " 'a r g u n .          ']"
            ]
          },
          "metadata": {
            "tags": []
          },
          "execution_count": 47
        }
      ]
    },
    {
      "cell_type": "code",
      "metadata": {
        "id": "Y_PozLNdhphm",
        "colab_type": "code",
        "outputId": "d5cded2b-0386-4e3f-a866-260d6c68c7b7",
        "colab": {
          "base_uri": "https://localhost:8080/",
          "height": 1000
        }
      },
      "source": [
        "model = get_model(max_char,char_dim)\n",
        "name_generator = LambdaCallback(on_epoch_end = generate_name_loop)\n",
        "\n",
        "model.fit(X, Y, batch_size=64, epochs=600, callbacks=[name_generator], verbose=0)"
      ],
      "execution_count": 48,
      "outputs": [
        {
          "output_type": "stream",
          "text": [
            "Names generated after epoch 0:\n",
            "boükgvffu.       N\n",
            "wivöjçknj.       N\n",
            ".       N\n",
            "Names generated after epoch 25:\n",
            "qyana.       N\n",
            "bıinu.       N\n",
            "p.       N\n",
            "Names generated after epoch 50:\n",
            "ura.       N\n",
            "izis.       N\n",
            "ildife.       N\n",
            "Names generated after epoch 75:\n",
            "cemi.       N\n",
            "nerde.       N\n",
            "raliz.       N\n",
            "Names generated after epoch 100:\n",
            "obun.       N\n",
            "iner.       N\n",
            "mesep.       N\n",
            "Names generated after epoch 125:\n",
            "ızma.       N\n",
            "aliha.       N\n",
            "ülkir.       N\n",
            "Names generated after epoch 150:\n",
            "allayt.       N\n",
            "ciban.       N\n",
            "mahan.       N\n",
            "Names generated after epoch 175:\n",
            "ökray.       N\n",
            "raya.       N\n",
            "dale.       N\n",
            "Names generated after epoch 200:\n",
            "esmi.       N\n",
            "asla.       N\n",
            "san.       N\n",
            "Names generated after epoch 225:\n",
            "lame.       N\n",
            "vila.       N\n",
            "alet.       N\n",
            "Names generated after epoch 250:\n",
            "erdan.       N\n",
            "korkm.       N\n",
            "ada.       N\n",
            "Names generated after epoch 275:\n",
            "mualam.       N\n",
            "ikran.       N\n",
            "ilvan.       N\n",
            "Names generated after epoch 300:\n",
            "aki.       N\n",
            "aci.       N\n",
            "bahut.       N\n",
            "Names generated after epoch 325:\n",
            "ınar.       N\n",
            "ozman.       N\n",
            "alime.       N\n",
            "Names generated after epoch 350:\n",
            "üray.       N\n",
            "ühay.       N\n",
            "ilgin.       N\n",
            "Names generated after epoch 375:\n",
            "ul.       N\n",
            "üne.       N\n",
            "okban.       N\n",
            "Names generated after epoch 400:\n",
            "fin.       N\n",
            "tahan.       N\n",
            "uzan.       N\n",
            "Names generated after epoch 425:\n",
            "emim.       N\n",
            "il.       N\n",
            "arim.       N\n",
            "Names generated after epoch 450:\n",
            "ulva.       N\n",
            "ira.       N\n",
            "okman.       N\n",
            "Names generated after epoch 475:\n",
            "evran.       N\n",
            "raya.       N\n",
            "ahmet.\n",
            "Names generated after epoch 500:\n",
            "at.       N\n",
            "emat.       N\n",
            "ergin.\n",
            "Names generated after epoch 525:\n",
            "utkiy.       N\n",
            "ünay.       N\n",
            "olk.       N\n",
            "Names generated after epoch 550:\n",
            "ülya.       N\n",
            "umur.\n",
            "ulva.       N\n",
            "Names generated after epoch 575:\n",
            "gok.       N\n",
            "erim.\n",
            "ahi.       N\n"
          ],
          "name": "stdout"
        },
        {
          "output_type": "execute_result",
          "data": {
            "text/plain": [
              "<keras.callbacks.History at 0x7fe7bd089898>"
            ]
          },
          "metadata": {
            "tags": []
          },
          "execution_count": 48
        }
      ]
    },
    {
      "cell_type": "code",
      "metadata": {
        "id": "xz-EijxAgHYg",
        "colab_type": "code",
        "outputId": "dee60b7a-b282-4cd3-b19c-74c66c8309fd",
        "colab": {
          "base_uri": "https://localhost:8080/",
          "height": 201
        }
      },
      "source": [
        "import random\n",
        "\n",
        "names_shuffled = names.copy()\n",
        "random.shuffle(names_shuffled)\n",
        "names_shuffled[0:10]"
      ],
      "execution_count": 49,
      "outputs": [
        {
          "output_type": "execute_result",
          "data": {
            "text/plain": [
              "['diler.',\n",
              " 'ilkin.',\n",
              " 'şahika.',\n",
              " 'vecihi.',\n",
              " 'tosun.',\n",
              " 'güldeste.',\n",
              " 'sahiba.',\n",
              " 'ilhami.',\n",
              " 'erkin.',\n",
              " 'faik.']"
            ]
          },
          "metadata": {
            "tags": []
          },
          "execution_count": 49
        }
      ]
    },
    {
      "cell_type": "code",
      "metadata": {
        "id": "j7yx27SMqAF_",
        "colab_type": "code",
        "colab": {
          "base_uri": "https://localhost:8080/",
          "height": 1000
        },
        "outputId": "eb8b08d8-9b75-495d-d10b-e338dc569c0e"
      },
      "source": [
        "X,Y,max_char,char_dim,index_to_char = gen_data(names_shuffled)\n",
        "model = get_model(max_char,char_dim)\n",
        "name_generator = LambdaCallback(on_epoch_end = generate_name_loop)\n",
        "\n",
        "model.fit(X, Y, batch_size=64, epochs=600, callbacks=[name_generator], verbose=0)"
      ],
      "execution_count": 51,
      "outputs": [
        {
          "output_type": "stream",
          "text": [
            "Names generated after epoch 0:\n",
            "wtz.       N\n",
            "ç.       N\n",
            "scyxkbaav.       N\n",
            "Names generated after epoch 25:\n",
            "zrgün.       N\n",
            "ider.       N\n",
            "vnslrra.       N\n",
            "Names generated after epoch 50:\n",
            "qşariş.       N\n",
            "mlgikpürr.       N\n",
            "fehiye.       N\n",
            "Names generated after epoch 75:\n",
            "ayğet.       N\n",
            "edemt.       N\n",
            "eha.       N\n",
            "Names generated after epoch 100:\n",
            "aliba.       N\n",
            "ülat.       N\n",
            "üri.       N\n",
            "Names generated after epoch 125:\n",
            "rkalim.       N\n",
            "am.       N\n",
            "luya.       N\n",
            "Names generated after epoch 150:\n",
            "aydan.\n",
            "rahii.       N\n",
            "iyhas.       N\n",
            "Names generated after epoch 175:\n",
            "imme.       N\n",
            "urgan.       N\n",
            "olg.       N\n",
            "Names generated after epoch 200:\n",
            "ese.       N\n",
            "alu.       N\n",
            "ulç.       N\n",
            "Names generated after epoch 225:\n",
            "atek.       N\n",
            "jad.       N\n",
            "ayl.       N\n",
            "Names generated after epoch 250:\n",
            "fah.       N\n",
            "ülka.       N\n",
            "umu.       N\n",
            "Names generated after epoch 275:\n",
            "ülya.       N\n",
            "eyran.       N\n",
            "güli.       N\n",
            "Names generated after epoch 300:\n",
            "ani.       N\n",
            "ilge.       N\n",
            "ale.       N\n",
            "Names generated after epoch 325:\n",
            "elen.       N\n",
            "emi.       N\n",
            "era.       N\n",
            "Names generated after epoch 350:\n",
            "aci.       N\n",
            "emi.       N\n",
            "ulu.\n",
            "Names generated after epoch 375:\n",
            "ilker.\n",
            "evriy.       N\n",
            ".       N\n",
            "Names generated after epoch 400:\n",
            "aya.       N\n",
            "maza.       N\n",
            "ema.       N\n",
            "Names generated after epoch 425:\n",
            "ale.       N\n",
            "isa.\n",
            "lali.       N\n",
            "Names generated after epoch 450:\n",
            "nursen.\n",
            "nal.       N\n",
            "ahi.       N\n",
            "Names generated after epoch 475:\n",
            "aya.       N\n",
            "imge.\n",
            "umgan.       N\n",
            "Names generated after epoch 500:\n",
            "ela.\n",
            "im.       N\n",
            "even.       N\n",
            "Names generated after epoch 525:\n",
            "rabi.       N\n",
            ".       N\n",
            "ilgin.       N\n",
            "Names generated after epoch 550:\n",
            "orhan.\n",
            "idrey.       N\n",
            "okman.       N\n",
            "Names generated after epoch 575:\n",
            "utkan.\n",
            "vdile.       N\n",
            "yaa.       N\n"
          ],
          "name": "stdout"
        },
        {
          "output_type": "execute_result",
          "data": {
            "text/plain": [
              "<keras.callbacks.History at 0x7fe7bcd42ba8>"
            ]
          },
          "metadata": {
            "tags": []
          },
          "execution_count": 51
        }
      ]
    },
    {
      "cell_type": "code",
      "metadata": {
        "id": "sQKrWZpBx_NT",
        "colab_type": "code",
        "colab": {}
      },
      "source": [
        ""
      ],
      "execution_count": 0,
      "outputs": []
    },
    {
      "cell_type": "code",
      "metadata": {
        "id": "Tl45m4kT0lyf",
        "colab_type": "code",
        "colab": {}
      },
      "source": [
        "\n",
        "    "
      ],
      "execution_count": 0,
      "outputs": []
    },
    {
      "cell_type": "code",
      "metadata": {
        "id": "P1S62t2o12d-",
        "colab_type": "code",
        "colab": {}
      },
      "source": [
        "\n"
      ],
      "execution_count": 0,
      "outputs": []
    },
    {
      "cell_type": "code",
      "metadata": {
        "id": "qa9S02Fc15fu",
        "colab_type": "code",
        "colab": {}
      },
      "source": [
        ""
      ],
      "execution_count": 0,
      "outputs": []
    },
    {
      "cell_type": "code",
      "metadata": {
        "id": "jXZt0uQTB-8f",
        "colab_type": "code",
        "colab": {}
      },
      "source": [
        ""
      ],
      "execution_count": 0,
      "outputs": []
    },
    {
      "cell_type": "code",
      "metadata": {
        "id": "LuGDalLEB__O",
        "colab_type": "code",
        "colab": {}
      },
      "source": [
        ""
      ],
      "execution_count": 0,
      "outputs": []
    },
    {
      "cell_type": "code",
      "metadata": {
        "id": "Qxn64yhlCx6O",
        "colab_type": "code",
        "colab": {}
      },
      "source": [
        ""
      ],
      "execution_count": 0,
      "outputs": []
    },
    {
      "cell_type": "code",
      "metadata": {
        "id": "8f4HkRJ9C1Sy",
        "colab_type": "code",
        "colab": {}
      },
      "source": [
        ""
      ],
      "execution_count": 0,
      "outputs": []
    },
    {
      "cell_type": "code",
      "metadata": {
        "id": "eCBagsTmDRfB",
        "colab_type": "code",
        "colab": {}
      },
      "source": [
        ""
      ],
      "execution_count": 0,
      "outputs": []
    },
    {
      "cell_type": "code",
      "metadata": {
        "id": "pcFVEFbdOPCu",
        "colab_type": "code",
        "colab": {}
      },
      "source": [
        ""
      ],
      "execution_count": 0,
      "outputs": []
    },
    {
      "cell_type": "code",
      "metadata": {
        "id": "KiEXdz21OQNC",
        "colab_type": "code",
        "colab": {}
      },
      "source": [
        ""
      ],
      "execution_count": 0,
      "outputs": []
    },
    {
      "cell_type": "code",
      "metadata": {
        "id": "kQnkK971YVEj",
        "colab_type": "code",
        "colab": {}
      },
      "source": [
        ""
      ],
      "execution_count": 0,
      "outputs": []
    }
  ]
}