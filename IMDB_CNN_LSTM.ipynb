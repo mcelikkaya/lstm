{
  "nbformat": 4,
  "nbformat_minor": 0,
  "metadata": {
    "colab": {
      "name": "IMDB_CNN_LSTM.ipynb",
      "provenance": [],
      "collapsed_sections": []
    },
    "kernelspec": {
      "name": "python3",
      "display_name": "Python 3"
    },
    "accelerator": "TPU"
  },
  "cells": [
    {
      "cell_type": "code",
      "metadata": {
        "id": "ympUsOPqXzHL",
        "colab_type": "code",
        "colab": {}
      },
      "source": [
        "'''\n",
        "I want to try keras sample on imdb for Conv + LSTM\n",
        "I will train 1 LSTM with Conv Layer.\n",
        "Then I will train another normal  LSTM\n",
        "and find reviews where they predict different values\n",
        "'''\n",
        "\n",
        "from keras.preprocessing import sequence\n",
        "from keras.models import Sequential\n",
        "from keras.layers import Dense, Dropout, Activation\n",
        "from keras.layers import Embedding\n",
        "from keras.layers import LSTM\n",
        "from keras.layers import Conv1D, MaxPooling1D\n",
        "from keras.datasets import imdb\n",
        "\n",
        "# Embedding\n",
        "max_features = 20000\n",
        "maxlen = 100\n",
        "embedding_size = 128\n",
        "\n",
        "# Convolution\n",
        "kernel_size = 5\n",
        "filters = 64\n",
        "pool_size = 4\n",
        "\n",
        "# LSTM\n",
        "lstm_output_size = 70\n",
        "\n",
        "# Training\n",
        "batch_size = 30\n",
        "epochs = 2"
      ],
      "execution_count": 0,
      "outputs": []
    },
    {
      "cell_type": "code",
      "metadata": {
        "id": "65ml-SmfX3pj",
        "colab_type": "code",
        "outputId": "97aef36b-309a-4463-8688-efb08b48a939",
        "colab": {
          "base_uri": "https://localhost:8080/",
          "height": 201
        }
      },
      "source": [
        "print('Loading data...')\n",
        "(x_train, y_train), (x_test, y_test) = imdb.load_data(num_words=max_features)\n",
        "print(len(x_train), 'train sequences')\n",
        "print(len(x_test), 'test sequences')\n",
        "\n",
        "print('Pad sequences (samples x time)')\n",
        "x_train = sequence.pad_sequences(x_train, maxlen=maxlen)\n",
        "x_test = sequence.pad_sequences(x_test, maxlen=maxlen)\n",
        "print('x_train shape:', x_train.shape)\n",
        "print('x_test shape:', x_test.shape)\n",
        "print('y_train shape:', y_train.shape)\n",
        "print('y_test shape:', y_test.shape)"
      ],
      "execution_count": 3,
      "outputs": [
        {
          "output_type": "stream",
          "text": [
            "Loading data...\n",
            "Downloading data from https://s3.amazonaws.com/text-datasets/imdb.npz\n",
            "17465344/17464789 [==============================] - 0s 0us/step\n",
            "25000 train sequences\n",
            "25000 test sequences\n",
            "Pad sequences (samples x time)\n",
            "x_train shape: (25000, 100)\n",
            "x_test shape: (25000, 100)\n",
            "y_train shape: (25000,)\n",
            "y_test shape: (25000,)\n"
          ],
          "name": "stdout"
        }
      ]
    },
    {
      "cell_type": "code",
      "metadata": {
        "id": "ZykbU-BlX5uR",
        "colab_type": "code",
        "colab": {}
      },
      "source": [
        ""
      ],
      "execution_count": 0,
      "outputs": []
    },
    {
      "cell_type": "code",
      "metadata": {
        "id": "VDKO2SROYFJF",
        "colab_type": "code",
        "outputId": "82235566-7c09-4f77-d1d1-395a2f57fc46",
        "colab": {
          "base_uri": "https://localhost:8080/",
          "height": 808
        }
      },
      "source": [
        "modelConv = Sequential()\n",
        "modelConv.add(Embedding(max_features, embedding_size, input_length=maxlen))\n",
        "modelConv.add(Dropout(0.25))\n",
        "modelConv.add(Conv1D(filters,\n",
        "                 kernel_size,\n",
        "                 padding='valid',\n",
        "                 activation='relu',\n",
        "                 strides=1))\n",
        "modelConv.add(MaxPooling1D(pool_size=pool_size))\n",
        "modelConv.add(LSTM(lstm_output_size))\n",
        "modelConv.add(Dense(1))\n",
        "modelConv.add(Activation('sigmoid'))\n",
        "\n",
        "modelConv.compile(loss='binary_crossentropy',\n",
        "              optimizer='adam',\n",
        "              metrics=['accuracy'])\n",
        "\n",
        "modelConv.summary()"
      ],
      "execution_count": 5,
      "outputs": [
        {
          "output_type": "stream",
          "text": [
            "WARNING:tensorflow:From /usr/local/lib/python3.6/dist-packages/keras/backend/tensorflow_backend.py:66: The name tf.get_default_graph is deprecated. Please use tf.compat.v1.get_default_graph instead.\n",
            "\n",
            "WARNING:tensorflow:From /usr/local/lib/python3.6/dist-packages/keras/backend/tensorflow_backend.py:541: The name tf.placeholder is deprecated. Please use tf.compat.v1.placeholder instead.\n",
            "\n",
            "WARNING:tensorflow:From /usr/local/lib/python3.6/dist-packages/keras/backend/tensorflow_backend.py:4432: The name tf.random_uniform is deprecated. Please use tf.random.uniform instead.\n",
            "\n",
            "WARNING:tensorflow:From /usr/local/lib/python3.6/dist-packages/keras/backend/tensorflow_backend.py:148: The name tf.placeholder_with_default is deprecated. Please use tf.compat.v1.placeholder_with_default instead.\n",
            "\n",
            "WARNING:tensorflow:From /usr/local/lib/python3.6/dist-packages/keras/backend/tensorflow_backend.py:3733: calling dropout (from tensorflow.python.ops.nn_ops) with keep_prob is deprecated and will be removed in a future version.\n",
            "Instructions for updating:\n",
            "Please use `rate` instead of `keep_prob`. Rate should be set to `rate = 1 - keep_prob`.\n",
            "WARNING:tensorflow:From /usr/local/lib/python3.6/dist-packages/keras/backend/tensorflow_backend.py:4267: The name tf.nn.max_pool is deprecated. Please use tf.nn.max_pool2d instead.\n",
            "\n",
            "WARNING:tensorflow:From /usr/local/lib/python3.6/dist-packages/keras/optimizers.py:793: The name tf.train.Optimizer is deprecated. Please use tf.compat.v1.train.Optimizer instead.\n",
            "\n",
            "WARNING:tensorflow:From /usr/local/lib/python3.6/dist-packages/keras/backend/tensorflow_backend.py:3657: The name tf.log is deprecated. Please use tf.math.log instead.\n",
            "\n",
            "WARNING:tensorflow:From /usr/local/lib/python3.6/dist-packages/tensorflow_core/python/ops/nn_impl.py:183: where (from tensorflow.python.ops.array_ops) is deprecated and will be removed in a future version.\n",
            "Instructions for updating:\n",
            "Use tf.where in 2.0, which has the same broadcast rule as np.where\n",
            "Model: \"sequential_1\"\n",
            "_________________________________________________________________\n",
            "Layer (type)                 Output Shape              Param #   \n",
            "=================================================================\n",
            "embedding_1 (Embedding)      (None, 100, 128)          2560000   \n",
            "_________________________________________________________________\n",
            "dropout_1 (Dropout)          (None, 100, 128)          0         \n",
            "_________________________________________________________________\n",
            "conv1d_1 (Conv1D)            (None, 96, 64)            41024     \n",
            "_________________________________________________________________\n",
            "max_pooling1d_1 (MaxPooling1 (None, 24, 64)            0         \n",
            "_________________________________________________________________\n",
            "lstm_1 (LSTM)                (None, 70)                37800     \n",
            "_________________________________________________________________\n",
            "dense_1 (Dense)              (None, 1)                 71        \n",
            "_________________________________________________________________\n",
            "activation_1 (Activation)    (None, 1)                 0         \n",
            "=================================================================\n",
            "Total params: 2,638,895\n",
            "Trainable params: 2,638,895\n",
            "Non-trainable params: 0\n",
            "_________________________________________________________________\n"
          ],
          "name": "stdout"
        }
      ]
    },
    {
      "cell_type": "code",
      "metadata": {
        "id": "NdLDoVzSYJKb",
        "colab_type": "code",
        "outputId": "041fccb6-b929-461f-ee9d-9db68c21a97c",
        "colab": {
          "base_uri": "https://localhost:8080/",
          "height": 476
        }
      },
      "source": [
        "print('Train...')\n",
        "modelConv.fit(x_train, y_train,\n",
        "          batch_size=batch_size,\n",
        "          epochs=epochs,\n",
        "          validation_data=(x_test, y_test))\n",
        "score, acc = modelConv.evaluate(x_test, y_test, batch_size=batch_size)\n",
        "print('Test score:', score)\n",
        "print('Test accuracy:', acc)"
      ],
      "execution_count": 6,
      "outputs": [
        {
          "output_type": "stream",
          "text": [
            "Train...\n",
            "WARNING:tensorflow:From /usr/local/lib/python3.6/dist-packages/keras/backend/tensorflow_backend.py:1033: The name tf.assign_add is deprecated. Please use tf.compat.v1.assign_add instead.\n",
            "\n",
            "WARNING:tensorflow:From /usr/local/lib/python3.6/dist-packages/keras/backend/tensorflow_backend.py:1020: The name tf.assign is deprecated. Please use tf.compat.v1.assign instead.\n",
            "\n",
            "WARNING:tensorflow:From /usr/local/lib/python3.6/dist-packages/keras/backend/tensorflow_backend.py:3005: The name tf.Session is deprecated. Please use tf.compat.v1.Session instead.\n",
            "\n",
            "Train on 25000 samples, validate on 25000 samples\n",
            "Epoch 1/2\n",
            "WARNING:tensorflow:From /usr/local/lib/python3.6/dist-packages/keras/backend/tensorflow_backend.py:190: The name tf.get_default_session is deprecated. Please use tf.compat.v1.get_default_session instead.\n",
            "\n",
            "WARNING:tensorflow:From /usr/local/lib/python3.6/dist-packages/keras/backend/tensorflow_backend.py:197: The name tf.ConfigProto is deprecated. Please use tf.compat.v1.ConfigProto instead.\n",
            "\n",
            "WARNING:tensorflow:From /usr/local/lib/python3.6/dist-packages/keras/backend/tensorflow_backend.py:207: The name tf.global_variables is deprecated. Please use tf.compat.v1.global_variables instead.\n",
            "\n",
            "WARNING:tensorflow:From /usr/local/lib/python3.6/dist-packages/keras/backend/tensorflow_backend.py:216: The name tf.is_variable_initialized is deprecated. Please use tf.compat.v1.is_variable_initialized instead.\n",
            "\n",
            "WARNING:tensorflow:From /usr/local/lib/python3.6/dist-packages/keras/backend/tensorflow_backend.py:223: The name tf.variables_initializer is deprecated. Please use tf.compat.v1.variables_initializer instead.\n",
            "\n",
            "25000/25000 [==============================] - 87s 3ms/step - loss: 0.3926 - acc: 0.8136 - val_loss: 0.3364 - val_acc: 0.8502\n",
            "Epoch 2/2\n",
            "25000/25000 [==============================] - 85s 3ms/step - loss: 0.2000 - acc: 0.9244 - val_loss: 0.3444 - val_acc: 0.8570\n",
            "25000/25000 [==============================] - 10s 407us/step\n",
            "Test score: 0.344353053689003\n",
            "Test accuracy: 0.8570399937152863\n"
          ],
          "name": "stdout"
        }
      ]
    },
    {
      "cell_type": "code",
      "metadata": {
        "id": "b2yCSZ7bYdDv",
        "colab_type": "code",
        "outputId": "b961fbf6-19ea-4881-960e-b2f591d9ec5a",
        "colab": {
          "base_uri": "https://localhost:8080/",
          "height": 311
        }
      },
      "source": [
        "modelLSTM = Sequential()\n",
        "modelLSTM.add(Embedding(max_features, embedding_size, input_length=maxlen))\n",
        "modelLSTM.add(LSTM(lstm_output_size))\n",
        "modelLSTM.add(Dense(1))\n",
        "modelLSTM.add(Activation('sigmoid'))\n",
        "\n",
        "modelLSTM.compile(loss='binary_crossentropy',\n",
        "              optimizer='adam',\n",
        "              metrics=['accuracy'])\n",
        "\n",
        "modelLSTM.summary()"
      ],
      "execution_count": 7,
      "outputs": [
        {
          "output_type": "stream",
          "text": [
            "Model: \"sequential_2\"\n",
            "_________________________________________________________________\n",
            "Layer (type)                 Output Shape              Param #   \n",
            "=================================================================\n",
            "embedding_2 (Embedding)      (None, 100, 128)          2560000   \n",
            "_________________________________________________________________\n",
            "lstm_2 (LSTM)                (None, 70)                55720     \n",
            "_________________________________________________________________\n",
            "dense_2 (Dense)              (None, 1)                 71        \n",
            "_________________________________________________________________\n",
            "activation_2 (Activation)    (None, 1)                 0         \n",
            "=================================================================\n",
            "Total params: 2,615,791\n",
            "Trainable params: 2,615,791\n",
            "Non-trainable params: 0\n",
            "_________________________________________________________________\n"
          ],
          "name": "stdout"
        }
      ]
    },
    {
      "cell_type": "code",
      "metadata": {
        "id": "NLbexxrUY6qB",
        "colab_type": "code",
        "outputId": "7ef1a62d-b383-4e38-cf4e-3fdb9a11936a",
        "colab": {
          "base_uri": "https://localhost:8080/",
          "height": 182
        }
      },
      "source": [
        "print('Train...')\n",
        "modelLSTM.fit(x_train, y_train,\n",
        "          batch_size=batch_size,\n",
        "          epochs=epochs,\n",
        "          validation_data=(x_test, y_test))\n",
        "score, acc = modelLSTM.evaluate(x_test, y_test, batch_size=batch_size)\n",
        "print('Test score:', score)\n",
        "print('Test accuracy:', acc)"
      ],
      "execution_count": 8,
      "outputs": [
        {
          "output_type": "stream",
          "text": [
            "Train...\n",
            "Train on 25000 samples, validate on 25000 samples\n",
            "Epoch 1/2\n",
            "25000/25000 [==============================] - 143s 6ms/step - loss: 0.4150 - acc: 0.8077 - val_loss: 0.3669 - val_acc: 0.8404\n",
            "Epoch 2/2\n",
            "25000/25000 [==============================] - 142s 6ms/step - loss: 0.2296 - acc: 0.9099 - val_loss: 0.4034 - val_acc: 0.8453\n",
            "25000/25000 [==============================] - 19s 761us/step\n",
            "Test score: 0.40341880458891394\n",
            "Test accuracy: 0.8452799948692322\n"
          ],
          "name": "stdout"
        }
      ]
    },
    {
      "cell_type": "code",
      "metadata": {
        "id": "9xoS_R4BY-Z9",
        "colab_type": "code",
        "colab": {}
      },
      "source": [
        ""
      ],
      "execution_count": 0,
      "outputs": []
    },
    {
      "cell_type": "code",
      "metadata": {
        "id": "YApSwtwUhQ5E",
        "colab_type": "code",
        "colab": {}
      },
      "source": [
        "import numpy as np\n",
        "def to_binary(x):\n",
        "  if x > 0.5 :\n",
        "    return 1\n",
        "  return 0  \n",
        "vfunc = np.vectorize(to_binary)\n",
        "#predict for both models\n",
        "y_1_predictions = modelConv.predict(x_test)\n",
        "y_2_predictions = modelLSTM.predict(x_test)"
      ],
      "execution_count": 0,
      "outputs": []
    },
    {
      "cell_type": "code",
      "metadata": {
        "id": "LpILK-TdhdpG",
        "colab_type": "code",
        "colab": {}
      },
      "source": [
        "#find the indexes that has different predictions\n",
        "y_1_predictions_binarized = vfunc(y_1_predictions)\n",
        "y_2_predictions_binarized = vfunc(y_2_predictions)\n",
        "comparison = y_1_predictions_binarized == y_2_predictions_binarized\n",
        "notequals = [ index for index,k in enumerate(comparison) if not k]"
      ],
      "execution_count": 0,
      "outputs": []
    },
    {
      "cell_type": "code",
      "metadata": {
        "id": "8VOdETRmisnV",
        "colab_type": "code",
        "outputId": "815ceec6-5e61-43af-f693-bbf3f7f01868",
        "colab": {
          "base_uri": "https://localhost:8080/",
          "height": 54
        }
      },
      "source": [
        "#create reverse index\n",
        "word_index = imdb.get_word_index()\n",
        "reverse_word_index = dict([(value, key) for (key, value) in word_index.items()])\n",
        "word2index = imdb.get_word_index()"
      ],
      "execution_count": 12,
      "outputs": [
        {
          "output_type": "stream",
          "text": [
            "Downloading data from https://s3.amazonaws.com/text-datasets/imdb_word_index.json\n",
            "1646592/1641221 [==============================] - 0s 0us/step\n"
          ],
          "name": "stdout"
        }
      ]
    },
    {
      "cell_type": "code",
      "metadata": {
        "id": "_eiM0IQpGaOP",
        "colab_type": "code",
        "colab": {}
      },
      "source": [
        "def seq_to_word(xi):\n",
        "  review = [reverse_word_index.get(i-3, \"?\") for i in xi]\n",
        "  return \" \".join(review)\n",
        "\n",
        "def print_sep(s,width):\n",
        "  current_width = 0\n",
        "  currents = []\n",
        "  splits = s.split(\" \")\n",
        "  for split in splits:\n",
        "    current_width += len(split)\n",
        "    if current_width > width:\n",
        "      print( \" \".join(currents) )\n",
        "      currents = []\n",
        "      current_width = 0\n",
        "    currents.append(split)\n",
        "  print( \" \".join(currents) )  \n",
        "\n",
        "def dump_info(index):\n",
        "  print(\"Review\")\n",
        "  print_sep(seq_to_word(x_train[index]),100)\n",
        "  print(\"prediction Conv\",y_1_predictions[index])\n",
        "  print(\"prediction LSTM\",y_2_predictions[index])\n",
        "  print(\"real label \",y_test[index])"
      ],
      "execution_count": 0,
      "outputs": []
    },
    {
      "cell_type": "code",
      "metadata": {
        "id": "51OoKb_6HnHt",
        "colab_type": "code",
        "colab": {
          "base_uri": "https://localhost:8080/",
          "height": 1000
        },
        "outputId": "b5fc9470-e85a-4828-a0fd-06788f5e7fdf"
      },
      "source": [
        "#dump 1st 20 different predictions\n",
        "for index in notequals[0:20]:\n",
        "  print(\"******************************\")\n",
        "  dump_info(index)"
      ],
      "execution_count": 15,
      "outputs": [
        {
          "output_type": "stream",
          "text": [
            "******************************\n",
            "Review\n",
            "like angus i got slightly annoyed with the pretext of hanging stories on more stories but also like angus i ? this once i\n",
            "saw the ? picture ' forget the box office pastiche of braveheart and its like you might even ? the justly famous ? of the wicker\n",
            "man to see a film that is true to scotland this one is probably unique if you maybe ? on it deeply enough you might even re\n",
            "evaluate the power of storytelling and the age old question of whether there are some truths that cannot be told but only\n",
            "experienced\n",
            "prediction Conv [0.22966748]\n",
            "prediction LSTM [0.69295824]\n",
            "real label  0\n",
            "******************************\n",
            "Review\n",
            "with nana is ? ? cameo provides the lighter moments and surely he's been pulled in to get the required star value though\n",
            "his role was not really required he's done it well overall shakti is a far superior film than most churned out these days and\n",
            "the pr release hype is sure to get it a good opening shakti is sure to get the critics and audience ? up so what if the film needs\n",
            "to be desperately trimmed by at least 2 reels to better the impact shakti still has the power to go on without a hitch\n",
            "prediction Conv [0.40283376]\n",
            "prediction LSTM [0.86128795]\n",
            "real label  1\n",
            "******************************\n",
            "Review\n",
            "style and no substance it is weighed down by dreadful acting a genuinely dire script indifferent cinematography and\n",
            "student level production values how it got funded started and finished is a mystery to me i bet you a million quid it never goes on\n",
            "general release the proper critics would tear it apart a really bad film shockingly bad a really really really poor effort and\n",
            "that is without even mentioning the gratuitous new born kitten gets dropped into a deep fat ? moment totally meaningless\n",
            "utterly lightweight poorly put together this movie is a dreadful embarrassment for uk cinema\n",
            "prediction Conv [0.2394777]\n",
            "prediction LSTM [0.76346797]\n",
            "real label  1\n",
            "******************************\n",
            "Review\n",
            "? ? ? ? ? ? went to see this as me and my lady had little else to do on a sunday afternoon i like films that deal with sleazy loser\n",
            "characters and this is full of em after a slow start we get some good turns from the cast but it is the actual ? that both makes and lets\n",
            "the film down the ? is one of the funniest scenes i have seen in a film for a long while but is too short and could have made this a\n",
            "masterpiece overall 71 2 out of 10\n",
            "prediction Conv [0.5920106]\n",
            "prediction LSTM [0.02162588]\n",
            "real label  1\n",
            "******************************\n",
            "Review\n",
            "? ? and other films that have flashbacks flash forwards left and right but ? didn't capture and hold onto the style at the\n",
            "end of ? ? you know what's going on and discover the answer to the main mysteries ? just leaves you hanging it has an air of\n",
            "pretension in its ? not gonna tell you a damned thing figure it out for ? presentation it's like reading a book with the chapters\n",
            "switched around and pages missing br br good acting like i said i liked the characters but the whole story was just too\n",
            "disappointing\n",
            "prediction Conv [0.01303151]\n",
            "prediction LSTM [0.50337946]\n",
            "real label  0\n",
            "******************************\n",
            "Review\n",
            "acting as poor the story absurd the zombies inconsistent even in a bad way they ? all been similar and the women ugly but i\n",
            "found myself enjoying this thing it was a fun watch it turned out to be a very very bad film and i would not recommend this thing\n",
            "unless one is into bad directorial exploitation films but still again i say it was worth a good laugh i crave zombie films no\n",
            "matter what but when this had fulci's name attached to it it ? been much better let me dare say zombie holocaust was better\n",
            "prediction Conv [0.97003657]\n",
            "prediction LSTM [0.22243282]\n",
            "real label  1\n",
            "******************************\n",
            "Review\n",
            "mouthed and unfunny maybe i don't know what's good but maybe this is just a bunch of crap that was ? on the public under the\n",
            "name of david lynch to make a few bucks too let me make it clear that i didn't care about the foul language part but had to keep ?\n",
            "the sound because my neighbors might have all in all this is a highly disappointing release and may well have just been left\n",
            "in the ? box set as a curiosity i highly recommend you don't spend your money on this 2 out of 10\n",
            "prediction Conv [0.8708112]\n",
            "prediction LSTM [0.20833677]\n",
            "real label  1\n",
            "******************************\n",
            "Review\n",
            "or whatever doesn't mean they know jack about kids br br i think that they're doing a disservice to children ? them of one\n",
            "of the greatest and most iconic shows of all time this show ? me and it's not just the dated artwork or terrible dialogue they\n",
            "misuse good voice talent like phil lamarr michael clarke duncan ? milo and so many others it lacks style humor character\n",
            "development and most importantly heart br br the show like it's ? characters slam ? rev runner ace bunny is but a shadow of it's former\n",
            "timeless and beautiful self\n",
            "prediction Conv [0.3685814]\n",
            "prediction LSTM [0.76359004]\n",
            "real label  0\n",
            "******************************\n",
            "Review\n",
            "? ? ? ? ? ? ? ? ? ? a pleasant surprise i expected a further ? along the line the rock 9 con air 7 ? 4 especially for such an ? film\n",
            "perhaps that's the reason so few approved of this new type of bruckheimer fare clever dialogue instead of snappy one liners\n",
            "decent background motivation instead of shake n bake stereotypes and when the chase came you really ? for it ? expecting an\n",
            "armageddon ? stay away this is one for the more intelligent action fans it didn't even bother me jolie appeared so little\n",
            "prediction Conv [0.307779]\n",
            "prediction LSTM [0.6021231]\n",
            "real label  0\n",
            "******************************\n",
            "Review\n",
            "great dialogue between gary cooper and jean arthur two very watchable stars who help to make this movie the sharp eyed\n",
            "amongst you might just spot gabby hayes as an indian scout also there is a very young anthony quinn making his debut as ? warrior he\n",
            "actually married one of ? daughters in real life indeed its ? character who informs cooper of the massacre of custer told in flash\n",
            "back the finale is well done and when the credits roll it ? the american west with american history so please take time out to\n",
            "watch this classic western\n",
            "prediction Conv [0.03943622]\n",
            "prediction LSTM [0.6140729]\n",
            "real label  0\n",
            "******************************\n",
            "Review\n",
            "? ? ? ? ? ? ? ? ? ? ? ? ? ? ? ? ? ? ? ? ? ? ? ? ? ? ? ? ? ? ? ? ? ? ? ? ? ? ? ? this movie is simply wonderful it's got it all laughter sorrow beauty\n",
            "poetry truth all in a simple yet intense story like life you won't get distracted for a second br br 10 10 br br p s somebody tell\n",
            "hollywood you need a good story to make a good movie and there are so many good stories out there\n",
            "prediction Conv [0.44299746]\n",
            "prediction LSTM [0.6549828]\n",
            "real label  1\n",
            "******************************\n",
            "Review\n",
            "speak with a great southern accent and she is gorgeous and would have done a wonderful job anyway i'd like to say that this\n",
            "movie blew something fierce i feel like i got ripped off by paying 8 50 for tickets and they should refund my money if you like the\n",
            "dukes of hazzard the original series don't see this movie it'll just upset you ? country music television plays the reruns of\n",
            "the dukes all the time later at night so set your ? and go with the real thing not the imitation on the big screen in hollywood\n",
            "prediction Conv [0.31999415]\n",
            "prediction LSTM [0.88709337]\n",
            "real label  1\n",
            "******************************\n",
            "Review\n",
            "? ? ? ? ? ? ? ? ? ? ? ? ? ? ? ? ? apart from the usual stereotypes of the thirties eugene ? as the gruff police detective jack la ? as\n",
            "the ? italian and of course james lee as the chinese cook this film is the great mystery of a murder in a locked room for an early\n",
            "1930's film this step by step peeling of the veneer of the mystery is similar to the columbo series except in this film you don't\n",
            "have the advantage of knowing who the killer was in advance\n",
            "prediction Conv [0.83054614]\n",
            "prediction LSTM [0.4793599]\n",
            "real label  0\n",
            "******************************\n",
            "Review\n",
            "they were not better recognized for their work here very controversial upon its release in 1978 the r rated film is now pg\n",
            "in this much more liberal time br br recently released on dvd the disc contains a making of segment on the special features\n",
            "and in it it's stated that the film was based on an actual story so the viewers who say the film is not real are mistaken\n",
            "everyone is an individual and different people fall in love for different reasons these are the issues explored in this\n",
            "wonderful film for everyone who has ever loved\n",
            "prediction Conv [0.47026566]\n",
            "prediction LSTM [0.86504304]\n",
            "real label  0\n",
            "******************************\n",
            "Review\n",
            "would write her and jenny garth as vapid airhead desperate men chasing old maid wannabes is beyond me br br their plots\n",
            "and dialog remind me of the ? homer says whenever his cartoon character ? is not on screen everyone should ask where's ? all\n",
            "the talk centers on whining about some guy and then whining to some guy sometimes they change it up and the guy whines instead\n",
            "then they get back together or break up at the end the 2 women are either shallow stupid or sex addicts the only word i can think\n",
            "of is sucks\n",
            "prediction Conv [0.63726616]\n",
            "prediction LSTM [0.43000707]\n",
            "real label  0\n",
            "******************************\n",
            "Review\n",
            "fare ajay was the one who stole the show with his negative character salman is monotonous and he ? you asin is forgettable\n",
            "and i don't that she will make it big in bollywood aditya roy is impressive while ? is strictly ok ? as the bitch is what we have\n",
            "seen in innumerable movies ? is ongoing with the proceedings i don't want to pen down about the flaws as it will be a ? task br br\n",
            "finally let me put it simple and straight london dreams is a soulless movie which you may better enjoy on dvd\n",
            "prediction Conv [0.59577006]\n",
            "prediction LSTM [0.01871932]\n",
            "real label  0\n",
            "******************************\n",
            "Review\n",
            "even being made is if it was at gunpoint retro hardly sketches about clowns subtly ? children may be cutting edge in some\n",
            "circles and it could actually have been funny but it just comes off as really quite sad what kept me going throughout the entire 75\n",
            "minutes sheer belief that they may have saved a genuinely funny skit for the end i gave the film a 1 because there was no lower score\n",
            "and i can only recommend it to ? or coma patients or perhaps people suffering from ? their jaws would finally drop open in\n",
            "disbelief\n",
            "prediction Conv [0.6688963]\n",
            "prediction LSTM [0.21929073]\n",
            "real label  1\n",
            "******************************\n",
            "Review\n",
            "? house arrest sees its end but wilder is ? so wallace steps in and the fun begins brother vs brother fighting fire with\n",
            "fire br br some great ? throwing in this flick eat your heart out drew barrymore br br the film also has some really weird yet\n",
            "funny elements like wilder's fire unit sings songs ? during ? and after wards jim ? ? known as ? pops in as wallace's redneck\n",
            "carnival buddy wilder ? is brilliantly shot and cleverly put together very off the wall and avant guard br br give this one a look\n",
            "prediction Conv [0.7474972]\n",
            "prediction LSTM [0.14051783]\n",
            "real label  1\n",
            "******************************\n",
            "Review\n",
            "radioactive and karloff becomes contaminated and can kill anyone by just touching them the sparks really fly between\n",
            "lugosi and karloff in this classic science fiction film during the post world war ii era director hillyer used a few standing\n",
            "sets from flash gordon series which was being filmed at the same time and also inserted some footage of electrical machines\n",
            "from frankenstein universal kept the public unaware of the special effects being used in this great classic film karloff\n",
            "and lugosi were at their very best and they both enjoyed working together and will be enjoyed by future generations\n",
            "prediction Conv [0.5293536]\n",
            "prediction LSTM [0.32253468]\n",
            "real label  1\n",
            "******************************\n",
            "Review\n",
            "a pretty vicious ? scene also if you're looking for a bit of the sexy stuff there's a brief topless scene but if you want to\n",
            "see this chick topless there are better films to do that other than that there's not much to bother with when it comes to this\n",
            "film br br if you're a huge fan of ? ? do those exist maybe you can check it out to see the story done in a different way but that's\n",
            "about the only reason i can find to see this one br br final verdict 3 10 ?\n",
            "prediction Conv [0.9324146]\n",
            "prediction LSTM [0.35167643]\n",
            "real label  1\n"
          ],
          "name": "stdout"
        }
      ]
    },
    {
      "cell_type": "code",
      "metadata": {
        "id": "v09HmQc9HqOt",
        "colab_type": "code",
        "colab": {}
      },
      "source": [
        ""
      ],
      "execution_count": 0,
      "outputs": []
    },
    {
      "cell_type": "code",
      "metadata": {
        "id": "2CgINAUiI04Y",
        "colab_type": "code",
        "colab": {}
      },
      "source": [
        ""
      ],
      "execution_count": 0,
      "outputs": []
    },
    {
      "cell_type": "code",
      "metadata": {
        "id": "JBtKnE_QJLHX",
        "colab_type": "code",
        "colab": {}
      },
      "source": [
        "\n"
      ],
      "execution_count": 0,
      "outputs": []
    },
    {
      "cell_type": "code",
      "metadata": {
        "id": "-LcsJQ1PJSKH",
        "colab_type": "code",
        "colab": {}
      },
      "source": [
        ""
      ],
      "execution_count": 0,
      "outputs": []
    },
    {
      "cell_type": "code",
      "metadata": {
        "id": "DPBwE2dFJZxf",
        "colab_type": "code",
        "colab": {}
      },
      "source": [
        ""
      ],
      "execution_count": 0,
      "outputs": []
    },
    {
      "cell_type": "code",
      "metadata": {
        "id": "7YEokRUDJgxy",
        "colab_type": "code",
        "colab": {}
      },
      "source": [
        ""
      ],
      "execution_count": 0,
      "outputs": []
    },
    {
      "cell_type": "code",
      "metadata": {
        "id": "iBkN9uggJiQB",
        "colab_type": "code",
        "colab": {
          "base_uri": "https://localhost:8080/",
          "height": 172
        },
        "outputId": "9230b32c-6022-4e26-d77c-e12c7128b35e"
      },
      "source": [
        ""
      ],
      "execution_count": 2,
      "outputs": [
        {
          "output_type": "error",
          "ename": "NameError",
          "evalue": "ignored",
          "traceback": [
            "\u001b[0;31m---------------------------------------------------------------------------\u001b[0m",
            "\u001b[0;31mNameError\u001b[0m                                 Traceback (most recent call last)",
            "\u001b[0;32m<ipython-input-2-8a7f88268f18>\u001b[0m in \u001b[0;36m<module>\u001b[0;34m()\u001b[0m\n\u001b[0;32m----> 1\u001b[0;31m \u001b[0mlen\u001b[0m\u001b[0;34m(\u001b[0m\u001b[0my_train\u001b[0m\u001b[0;34m)\u001b[0m\u001b[0;34m\u001b[0m\u001b[0;34m\u001b[0m\u001b[0m\n\u001b[0m",
            "\u001b[0;31mNameError\u001b[0m: name 'y_train' is not defined"
          ]
        }
      ]
    },
    {
      "cell_type": "code",
      "metadata": {
        "id": "MBhS7q7xJnd-",
        "colab_type": "code",
        "colab": {}
      },
      "source": [
        ""
      ],
      "execution_count": 0,
      "outputs": []
    }
  ]
}